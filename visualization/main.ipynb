{
 "cells": [
  {
   "cell_type": "code",
   "execution_count": 2,
   "metadata": {},
   "outputs": [],
   "source": [
    "import pandas as pd\n",
    "import gc"
   ]
  },
  {
   "attachments": {},
   "cell_type": "markdown",
   "metadata": {},
   "source": [
    "# NACIONAL"
   ]
  },
  {
   "cell_type": "code",
   "execution_count": 4,
   "metadata": {},
   "outputs": [
    {
     "data": {
      "text/html": [
       "<div>\n",
       "<style scoped>\n",
       "    .dataframe tbody tr th:only-of-type {\n",
       "        vertical-align: middle;\n",
       "    }\n",
       "\n",
       "    .dataframe tbody tr th {\n",
       "        vertical-align: top;\n",
       "    }\n",
       "\n",
       "    .dataframe thead th {\n",
       "        text-align: right;\n",
       "    }\n",
       "</style>\n",
       "<table border=\"1\" class=\"dataframe\">\n",
       "  <thead>\n",
       "    <tr style=\"text-align: right;\">\n",
       "      <th></th>\n",
       "      <th>date</th>\n",
       "      <th>country</th>\n",
       "      <th>region</th>\n",
       "      <th>1day_cases_100k</th>\n",
       "      <th>new_cases</th>\n",
       "      <th>new_deaths</th>\n",
       "      <th>new_deaths_100k</th>\n",
       "      <th>total_cases</th>\n",
       "      <th>total_deaths</th>\n",
       "      <th>cfr%</th>\n",
       "      <th>total_cases_100k</th>\n",
       "      <th>total_deaths_100k</th>\n",
       "      <th>%infected</th>\n",
       "      <th>population</th>\n",
       "      <th>7day_cases_100k</th>\n",
       "      <th>7day_cases_change</th>\n",
       "      <th>28day_cases_100k</th>\n",
       "      <th>28day_cases_change</th>\n",
       "    </tr>\n",
       "  </thead>\n",
       "  <tbody>\n",
       "    <tr>\n",
       "      <th>0</th>\n",
       "      <td>2022-03-28</td>\n",
       "      <td>Peru</td>\n",
       "      <td>Ancash</td>\n",
       "      <td>2.10</td>\n",
       "      <td>24</td>\n",
       "      <td>0</td>\n",
       "      <td>0.00</td>\n",
       "      <td>126131</td>\n",
       "      <td>7105</td>\n",
       "      <td>5.63</td>\n",
       "      <td>11040.79</td>\n",
       "      <td>621.93</td>\n",
       "      <td>11.04</td>\n",
       "      <td>1142409</td>\n",
       "      <td>43.24</td>\n",
       "      <td>-1.93</td>\n",
       "      <td>189.59</td>\n",
       "      <td>-6.57</td>\n",
       "    </tr>\n",
       "    <tr>\n",
       "      <th>1</th>\n",
       "      <td>2022-03-28</td>\n",
       "      <td>Peru</td>\n",
       "      <td>Madre de dios</td>\n",
       "      <td>0.00</td>\n",
       "      <td>0</td>\n",
       "      <td>0</td>\n",
       "      <td>0.00</td>\n",
       "      <td>17794</td>\n",
       "      <td>845</td>\n",
       "      <td>4.75</td>\n",
       "      <td>13268.71</td>\n",
       "      <td>630.10</td>\n",
       "      <td>13.27</td>\n",
       "      <td>134105</td>\n",
       "      <td>29.83</td>\n",
       "      <td>0.00</td>\n",
       "      <td>128.27</td>\n",
       "      <td>-8.20</td>\n",
       "    </tr>\n",
       "    <tr>\n",
       "      <th>2</th>\n",
       "      <td>2022-03-28</td>\n",
       "      <td>Peru</td>\n",
       "      <td>Apurimac</td>\n",
       "      <td>0.44</td>\n",
       "      <td>2</td>\n",
       "      <td>2</td>\n",
       "      <td>0.44</td>\n",
       "      <td>38912</td>\n",
       "      <td>1622</td>\n",
       "      <td>4.17</td>\n",
       "      <td>8521.15</td>\n",
       "      <td>355.19</td>\n",
       "      <td>8.52</td>\n",
       "      <td>456652</td>\n",
       "      <td>19.50</td>\n",
       "      <td>-1.53</td>\n",
       "      <td>126.99</td>\n",
       "      <td>-8.76</td>\n",
       "    </tr>\n",
       "    <tr>\n",
       "      <th>3</th>\n",
       "      <td>2022-03-28</td>\n",
       "      <td>Peru</td>\n",
       "      <td>Amazonas</td>\n",
       "      <td>0.24</td>\n",
       "      <td>1</td>\n",
       "      <td>1</td>\n",
       "      <td>0.24</td>\n",
       "      <td>43995</td>\n",
       "      <td>1333</td>\n",
       "      <td>3.03</td>\n",
       "      <td>10447.09</td>\n",
       "      <td>316.54</td>\n",
       "      <td>10.45</td>\n",
       "      <td>421122</td>\n",
       "      <td>17.57</td>\n",
       "      <td>-0.47</td>\n",
       "      <td>111.34</td>\n",
       "      <td>-3.80</td>\n",
       "    </tr>\n",
       "    <tr>\n",
       "      <th>4</th>\n",
       "      <td>2022-03-28</td>\n",
       "      <td>Peru</td>\n",
       "      <td>Moquegua</td>\n",
       "      <td>1.12</td>\n",
       "      <td>2</td>\n",
       "      <td>0</td>\n",
       "      <td>0.00</td>\n",
       "      <td>48320</td>\n",
       "      <td>1615</td>\n",
       "      <td>3.34</td>\n",
       "      <td>27053.05</td>\n",
       "      <td>904.19</td>\n",
       "      <td>27.05</td>\n",
       "      <td>178612</td>\n",
       "      <td>17.36</td>\n",
       "      <td>-1.12</td>\n",
       "      <td>177.52</td>\n",
       "      <td>-28.55</td>\n",
       "    </tr>\n",
       "    <tr>\n",
       "      <th>5</th>\n",
       "      <td>2022-03-28</td>\n",
       "      <td>Peru</td>\n",
       "      <td>Arequipa</td>\n",
       "      <td>1.08</td>\n",
       "      <td>16</td>\n",
       "      <td>1</td>\n",
       "      <td>0.07</td>\n",
       "      <td>212581</td>\n",
       "      <td>10259</td>\n",
       "      <td>4.83</td>\n",
       "      <td>14363.49</td>\n",
       "      <td>693.17</td>\n",
       "      <td>14.36</td>\n",
       "      <td>1480009</td>\n",
       "      <td>15.41</td>\n",
       "      <td>-0.81</td>\n",
       "      <td>162.85</td>\n",
       "      <td>-10.81</td>\n",
       "    </tr>\n",
       "    <tr>\n",
       "      <th>6</th>\n",
       "      <td>2022-03-28</td>\n",
       "      <td>Peru</td>\n",
       "      <td>Tumbes</td>\n",
       "      <td>0.00</td>\n",
       "      <td>0</td>\n",
       "      <td>0</td>\n",
       "      <td>0.00</td>\n",
       "      <td>27321</td>\n",
       "      <td>1689</td>\n",
       "      <td>6.18</td>\n",
       "      <td>11643.89</td>\n",
       "      <td>719.83</td>\n",
       "      <td>11.64</td>\n",
       "      <td>234638</td>\n",
       "      <td>14.06</td>\n",
       "      <td>-1.28</td>\n",
       "      <td>263.37</td>\n",
       "      <td>-39.64</td>\n",
       "    </tr>\n",
       "    <tr>\n",
       "      <th>7</th>\n",
       "      <td>2022-03-28</td>\n",
       "      <td>Peru</td>\n",
       "      <td>Ica</td>\n",
       "      <td>0.64</td>\n",
       "      <td>5</td>\n",
       "      <td>-1</td>\n",
       "      <td>-0.13</td>\n",
       "      <td>103515</td>\n",
       "      <td>8916</td>\n",
       "      <td>8.61</td>\n",
       "      <td>13281.85</td>\n",
       "      <td>1144.00</td>\n",
       "      <td>13.28</td>\n",
       "      <td>779372</td>\n",
       "      <td>13.72</td>\n",
       "      <td>-0.13</td>\n",
       "      <td>114.20</td>\n",
       "      <td>-58.00</td>\n",
       "    </tr>\n",
       "    <tr>\n",
       "      <th>8</th>\n",
       "      <td>2022-03-28</td>\n",
       "      <td>Peru</td>\n",
       "      <td>Junin</td>\n",
       "      <td>0.60</td>\n",
       "      <td>9</td>\n",
       "      <td>7</td>\n",
       "      <td>0.46</td>\n",
       "      <td>125825</td>\n",
       "      <td>7451</td>\n",
       "      <td>5.92</td>\n",
       "      <td>8321.15</td>\n",
       "      <td>492.75</td>\n",
       "      <td>8.32</td>\n",
       "      <td>1512111</td>\n",
       "      <td>12.90</td>\n",
       "      <td>-0.85</td>\n",
       "      <td>71.43</td>\n",
       "      <td>-3.37</td>\n",
       "    </tr>\n",
       "    <tr>\n",
       "      <th>9</th>\n",
       "      <td>2022-03-28</td>\n",
       "      <td>Peru</td>\n",
       "      <td>Huancavelica</td>\n",
       "      <td>2.85</td>\n",
       "      <td>14</td>\n",
       "      <td>0</td>\n",
       "      <td>0.00</td>\n",
       "      <td>25730</td>\n",
       "      <td>1264</td>\n",
       "      <td>4.91</td>\n",
       "      <td>5237.36</td>\n",
       "      <td>257.29</td>\n",
       "      <td>5.24</td>\n",
       "      <td>491278</td>\n",
       "      <td>12.82</td>\n",
       "      <td>0.81</td>\n",
       "      <td>83.66</td>\n",
       "      <td>-7.33</td>\n",
       "    </tr>\n",
       "  </tbody>\n",
       "</table>\n",
       "</div>"
      ],
      "text/plain": [
       "         date country         region  1day_cases_100k  new_cases  new_deaths  \\\n",
       "0  2022-03-28    Peru         Ancash             2.10         24           0   \n",
       "1  2022-03-28    Peru  Madre de dios             0.00          0           0   \n",
       "2  2022-03-28    Peru       Apurimac             0.44          2           2   \n",
       "3  2022-03-28    Peru       Amazonas             0.24          1           1   \n",
       "4  2022-03-28    Peru       Moquegua             1.12          2           0   \n",
       "5  2022-03-28    Peru       Arequipa             1.08         16           1   \n",
       "6  2022-03-28    Peru         Tumbes             0.00          0           0   \n",
       "7  2022-03-28    Peru            Ica             0.64          5          -1   \n",
       "8  2022-03-28    Peru          Junin             0.60          9           7   \n",
       "9  2022-03-28    Peru   Huancavelica             2.85         14           0   \n",
       "\n",
       "   new_deaths_100k  total_cases  total_deaths  cfr%  total_cases_100k  \\\n",
       "0             0.00       126131          7105  5.63          11040.79   \n",
       "1             0.00        17794           845  4.75          13268.71   \n",
       "2             0.44        38912          1622  4.17           8521.15   \n",
       "3             0.24        43995          1333  3.03          10447.09   \n",
       "4             0.00        48320          1615  3.34          27053.05   \n",
       "5             0.07       212581         10259  4.83          14363.49   \n",
       "6             0.00        27321          1689  6.18          11643.89   \n",
       "7            -0.13       103515          8916  8.61          13281.85   \n",
       "8             0.46       125825          7451  5.92           8321.15   \n",
       "9             0.00        25730          1264  4.91           5237.36   \n",
       "\n",
       "   total_deaths_100k  %infected  population  7day_cases_100k  \\\n",
       "0             621.93      11.04     1142409            43.24   \n",
       "1             630.10      13.27      134105            29.83   \n",
       "2             355.19       8.52      456652            19.50   \n",
       "3             316.54      10.45      421122            17.57   \n",
       "4             904.19      27.05      178612            17.36   \n",
       "5             693.17      14.36     1480009            15.41   \n",
       "6             719.83      11.64      234638            14.06   \n",
       "7            1144.00      13.28      779372            13.72   \n",
       "8             492.75       8.32     1512111            12.90   \n",
       "9             257.29       5.24      491278            12.82   \n",
       "\n",
       "   7day_cases_change  28day_cases_100k  28day_cases_change  \n",
       "0              -1.93            189.59               -6.57  \n",
       "1               0.00            128.27               -8.20  \n",
       "2              -1.53            126.99               -8.76  \n",
       "3              -0.47            111.34               -3.80  \n",
       "4              -1.12            177.52              -28.55  \n",
       "5              -0.81            162.85              -10.81  \n",
       "6              -1.28            263.37              -39.64  \n",
       "7              -0.13            114.20              -58.00  \n",
       "8              -0.85             71.43               -3.37  \n",
       "9               0.81             83.66               -7.33  "
      ]
     },
     "execution_count": 4,
     "metadata": {},
     "output_type": "execute_result"
    }
   ],
   "source": [
    "df = pd.read_csv('../data/Peru_Regions_Full.csv')\n",
    "df.head(10)"
   ]
  },
  {
   "cell_type": "code",
   "execution_count": 5,
   "metadata": {},
   "outputs": [
    {
     "name": "stdout",
     "output_type": "stream",
     "text": [
      "<class 'pandas.core.frame.DataFrame'>\n",
      "RangeIndex: 18225 entries, 0 to 18224\n",
      "Data columns (total 18 columns):\n",
      " #   Column              Non-Null Count  Dtype  \n",
      "---  ------              --------------  -----  \n",
      " 0   date                18225 non-null  object \n",
      " 1   country             18225 non-null  object \n",
      " 2   region              18225 non-null  object \n",
      " 3   1day_cases_100k     18225 non-null  float64\n",
      " 4   new_cases           18225 non-null  int64  \n",
      " 5   new_deaths          18225 non-null  int64  \n",
      " 6   new_deaths_100k     18225 non-null  float64\n",
      " 7   total_cases         18225 non-null  int64  \n",
      " 8   total_deaths        18225 non-null  int64  \n",
      " 9   cfr%                18225 non-null  float64\n",
      " 10  total_cases_100k    18225 non-null  float64\n",
      " 11  total_deaths_100k   18225 non-null  float64\n",
      " 12  %infected           18225 non-null  float64\n",
      " 13  population          18225 non-null  int64  \n",
      " 14  7day_cases_100k     18225 non-null  float64\n",
      " 15  7day_cases_change   18225 non-null  float64\n",
      " 16  28day_cases_100k    18225 non-null  float64\n",
      " 17  28day_cases_change  18225 non-null  float64\n",
      "dtypes: float64(10), int64(5), object(3)\n",
      "memory usage: 2.5+ MB\n"
     ]
    }
   ],
   "source": [
    "df.info()"
   ]
  },
  {
   "cell_type": "code",
   "execution_count": 6,
   "metadata": {},
   "outputs": [
    {
     "data": {
      "text/plain": [
       "(18225, 18)"
      ]
     },
     "execution_count": 6,
     "metadata": {},
     "output_type": "execute_result"
    }
   ],
   "source": [
    "df.shape"
   ]
  },
  {
   "attachments": {},
   "cell_type": "markdown",
   "metadata": {},
   "source": [
    "# AREQUIPA"
   ]
  },
  {
   "cell_type": "code",
   "execution_count": 39,
   "metadata": {},
   "outputs": [
    {
     "data": {
      "text/html": [
       "<div>\n",
       "<style scoped>\n",
       "    .dataframe tbody tr th:only-of-type {\n",
       "        vertical-align: middle;\n",
       "    }\n",
       "\n",
       "    .dataframe tbody tr th {\n",
       "        vertical-align: top;\n",
       "    }\n",
       "\n",
       "    .dataframe thead th {\n",
       "        text-align: right;\n",
       "    }\n",
       "</style>\n",
       "<table border=\"1\" class=\"dataframe\">\n",
       "  <thead>\n",
       "    <tr style=\"text-align: right;\">\n",
       "      <th></th>\n",
       "      <th>date</th>\n",
       "      <th>country</th>\n",
       "      <th>region</th>\n",
       "      <th>1day_cases_100k</th>\n",
       "      <th>new_cases</th>\n",
       "      <th>new_deaths</th>\n",
       "      <th>new_deaths_100k</th>\n",
       "      <th>total_cases</th>\n",
       "      <th>total_deaths</th>\n",
       "      <th>cfr%</th>\n",
       "      <th>total_cases_100k</th>\n",
       "      <th>total_deaths_100k</th>\n",
       "      <th>%infected</th>\n",
       "      <th>population</th>\n",
       "      <th>7day_cases_100k</th>\n",
       "      <th>7day_cases_change</th>\n",
       "      <th>28day_cases_100k</th>\n",
       "      <th>28day_cases_change</th>\n",
       "    </tr>\n",
       "  </thead>\n",
       "  <tbody>\n",
       "    <tr>\n",
       "      <th>0</th>\n",
       "      <td>2022-03-28</td>\n",
       "      <td>Peru</td>\n",
       "      <td>Arequipa</td>\n",
       "      <td>1.08</td>\n",
       "      <td>16</td>\n",
       "      <td>1</td>\n",
       "      <td>0.07</td>\n",
       "      <td>212581</td>\n",
       "      <td>10259</td>\n",
       "      <td>4.83</td>\n",
       "      <td>14363.49</td>\n",
       "      <td>693.17</td>\n",
       "      <td>14.36</td>\n",
       "      <td>1480009</td>\n",
       "      <td>15.41</td>\n",
       "      <td>-0.81</td>\n",
       "      <td>162.85</td>\n",
       "      <td>-10.81</td>\n",
       "    </tr>\n",
       "    <tr>\n",
       "      <th>1</th>\n",
       "      <td>2022-03-27</td>\n",
       "      <td>Peru</td>\n",
       "      <td>Arequipa</td>\n",
       "      <td>1.89</td>\n",
       "      <td>28</td>\n",
       "      <td>3</td>\n",
       "      <td>0.20</td>\n",
       "      <td>212565</td>\n",
       "      <td>10258</td>\n",
       "      <td>4.83</td>\n",
       "      <td>14362.41</td>\n",
       "      <td>693.10</td>\n",
       "      <td>14.36</td>\n",
       "      <td>1480009</td>\n",
       "      <td>16.22</td>\n",
       "      <td>-1.22</td>\n",
       "      <td>173.66</td>\n",
       "      <td>-16.02</td>\n",
       "    </tr>\n",
       "    <tr>\n",
       "      <th>2</th>\n",
       "      <td>2022-03-26</td>\n",
       "      <td>Peru</td>\n",
       "      <td>Arequipa</td>\n",
       "      <td>2.64</td>\n",
       "      <td>39</td>\n",
       "      <td>7</td>\n",
       "      <td>0.47</td>\n",
       "      <td>212537</td>\n",
       "      <td>10255</td>\n",
       "      <td>4.83</td>\n",
       "      <td>14360.52</td>\n",
       "      <td>692.90</td>\n",
       "      <td>14.36</td>\n",
       "      <td>1480009</td>\n",
       "      <td>17.44</td>\n",
       "      <td>0.07</td>\n",
       "      <td>189.68</td>\n",
       "      <td>-9.05</td>\n",
       "    </tr>\n",
       "    <tr>\n",
       "      <th>3</th>\n",
       "      <td>2022-03-25</td>\n",
       "      <td>Peru</td>\n",
       "      <td>Arequipa</td>\n",
       "      <td>3.11</td>\n",
       "      <td>46</td>\n",
       "      <td>1</td>\n",
       "      <td>0.07</td>\n",
       "      <td>212498</td>\n",
       "      <td>10248</td>\n",
       "      <td>4.82</td>\n",
       "      <td>14357.89</td>\n",
       "      <td>692.43</td>\n",
       "      <td>14.36</td>\n",
       "      <td>1480009</td>\n",
       "      <td>17.37</td>\n",
       "      <td>0.41</td>\n",
       "      <td>198.73</td>\n",
       "      <td>-11.35</td>\n",
       "    </tr>\n",
       "    <tr>\n",
       "      <th>4</th>\n",
       "      <td>2022-03-24</td>\n",
       "      <td>Peru</td>\n",
       "      <td>Arequipa</td>\n",
       "      <td>1.82</td>\n",
       "      <td>27</td>\n",
       "      <td>0</td>\n",
       "      <td>0.00</td>\n",
       "      <td>212452</td>\n",
       "      <td>10247</td>\n",
       "      <td>4.82</td>\n",
       "      <td>14354.78</td>\n",
       "      <td>692.36</td>\n",
       "      <td>14.35</td>\n",
       "      <td>1480009</td>\n",
       "      <td>16.96</td>\n",
       "      <td>-2.84</td>\n",
       "      <td>210.08</td>\n",
       "      <td>-15.82</td>\n",
       "    </tr>\n",
       "  </tbody>\n",
       "</table>\n",
       "</div>"
      ],
      "text/plain": [
       "         date country    region  1day_cases_100k  new_cases  new_deaths  \\\n",
       "0  2022-03-28    Peru  Arequipa             1.08         16           1   \n",
       "1  2022-03-27    Peru  Arequipa             1.89         28           3   \n",
       "2  2022-03-26    Peru  Arequipa             2.64         39           7   \n",
       "3  2022-03-25    Peru  Arequipa             3.11         46           1   \n",
       "4  2022-03-24    Peru  Arequipa             1.82         27           0   \n",
       "\n",
       "   new_deaths_100k  total_cases  total_deaths  cfr%  total_cases_100k  \\\n",
       "0             0.07       212581         10259  4.83          14363.49   \n",
       "1             0.20       212565         10258  4.83          14362.41   \n",
       "2             0.47       212537         10255  4.83          14360.52   \n",
       "3             0.07       212498         10248  4.82          14357.89   \n",
       "4             0.00       212452         10247  4.82          14354.78   \n",
       "\n",
       "   total_deaths_100k  %infected  population  7day_cases_100k  \\\n",
       "0             693.17      14.36     1480009            15.41   \n",
       "1             693.10      14.36     1480009            16.22   \n",
       "2             692.90      14.36     1480009            17.44   \n",
       "3             692.43      14.36     1480009            17.37   \n",
       "4             692.36      14.35     1480009            16.96   \n",
       "\n",
       "   7day_cases_change  28day_cases_100k  28day_cases_change  \n",
       "0              -0.81            162.85              -10.81  \n",
       "1              -1.22            173.66              -16.02  \n",
       "2               0.07            189.68               -9.05  \n",
       "3               0.41            198.73              -11.35  \n",
       "4              -2.84            210.08              -15.82  "
      ]
     },
     "execution_count": 39,
     "metadata": {},
     "output_type": "execute_result"
    }
   ],
   "source": [
    "df_aqp = pd.read_csv('../data/Arequipa.csv')\n",
    "df_aqp.head(5)"
   ]
  },
  {
   "cell_type": "code",
   "execution_count": 40,
   "metadata": {},
   "outputs": [
    {
     "name": "stdout",
     "output_type": "stream",
     "text": [
      "<class 'pandas.core.frame.DataFrame'>\n",
      "RangeIndex: 729 entries, 0 to 728\n",
      "Data columns (total 18 columns):\n",
      " #   Column              Non-Null Count  Dtype  \n",
      "---  ------              --------------  -----  \n",
      " 0   date                729 non-null    object \n",
      " 1   country             729 non-null    object \n",
      " 2   region              729 non-null    object \n",
      " 3   1day_cases_100k     729 non-null    float64\n",
      " 4   new_cases           729 non-null    int64  \n",
      " 5   new_deaths          729 non-null    int64  \n",
      " 6   new_deaths_100k     729 non-null    float64\n",
      " 7   total_cases         729 non-null    int64  \n",
      " 8   total_deaths        729 non-null    int64  \n",
      " 9   cfr%                729 non-null    float64\n",
      " 10  total_cases_100k    729 non-null    float64\n",
      " 11  total_deaths_100k   729 non-null    float64\n",
      " 12  %infected           729 non-null    float64\n",
      " 13  population          729 non-null    int64  \n",
      " 14  7day_cases_100k     729 non-null    float64\n",
      " 15  7day_cases_change   729 non-null    float64\n",
      " 16  28day_cases_100k    729 non-null    float64\n",
      " 17  28day_cases_change  729 non-null    float64\n",
      "dtypes: float64(10), int64(5), object(3)\n",
      "memory usage: 102.6+ KB\n"
     ]
    }
   ],
   "source": [
    "df_aqp.info()"
   ]
  },
  {
   "cell_type": "code",
   "execution_count": 41,
   "metadata": {},
   "outputs": [
    {
     "data": {
      "text/plain": [
       "(729, 18)"
      ]
     },
     "execution_count": 41,
     "metadata": {},
     "output_type": "execute_result"
    }
   ],
   "source": [
    "df_aqp.shape"
   ]
  },
  {
   "cell_type": "code",
   "execution_count": 43,
   "metadata": {},
   "outputs": [
    {
     "data": {
      "text/plain": [
       "0"
      ]
     },
     "execution_count": 43,
     "metadata": {},
     "output_type": "execute_result"
    }
   ],
   "source": [
    "gc.collect()"
   ]
  },
  {
   "attachments": {},
   "cell_type": "markdown",
   "metadata": {},
   "source": [
    "# MINSA OPEN DATA"
   ]
  },
  {
   "cell_type": "code",
   "execution_count": 3,
   "metadata": {},
   "outputs": [
    {
     "data": {
      "text/html": [
       "<div>\n",
       "<style scoped>\n",
       "    .dataframe tbody tr th:only-of-type {\n",
       "        vertical-align: middle;\n",
       "    }\n",
       "\n",
       "    .dataframe tbody tr th {\n",
       "        vertical-align: top;\n",
       "    }\n",
       "\n",
       "    .dataframe thead th {\n",
       "        text-align: right;\n",
       "    }\n",
       "</style>\n",
       "<table border=\"1\" class=\"dataframe\">\n",
       "  <thead>\n",
       "    <tr style=\"text-align: right;\">\n",
       "      <th></th>\n",
       "      <th>FECHA_CORTE</th>\n",
       "      <th>DEPARTAMENTO</th>\n",
       "      <th>PROVINCIA</th>\n",
       "      <th>DISTRITO</th>\n",
       "      <th>METODODX</th>\n",
       "      <th>EDAD</th>\n",
       "      <th>SEXO</th>\n",
       "      <th>FECHA_RESULTADO</th>\n",
       "      <th>UBIGEO</th>\n",
       "      <th>id_persona</th>\n",
       "    </tr>\n",
       "  </thead>\n",
       "  <tbody>\n",
       "    <tr>\n",
       "      <th>0</th>\n",
       "      <td>20230524</td>\n",
       "      <td>AREQUIPA</td>\n",
       "      <td>AREQUIPA</td>\n",
       "      <td>YANAHUARA</td>\n",
       "      <td>PCR</td>\n",
       "      <td>78.0</td>\n",
       "      <td>FEMENINO</td>\n",
       "      <td>20220108.0</td>\n",
       "      <td>40126.0</td>\n",
       "      <td>13889713.0</td>\n",
       "    </tr>\n",
       "    <tr>\n",
       "      <th>1</th>\n",
       "      <td>20230524</td>\n",
       "      <td>AREQUIPA</td>\n",
       "      <td>AREQUIPA</td>\n",
       "      <td>PAUCARPATA</td>\n",
       "      <td>AG</td>\n",
       "      <td>67.0</td>\n",
       "      <td>MASCULINO</td>\n",
       "      <td>20210628.0</td>\n",
       "      <td>40112.0</td>\n",
       "      <td>13889735.0</td>\n",
       "    </tr>\n",
       "    <tr>\n",
       "      <th>2</th>\n",
       "      <td>20230524</td>\n",
       "      <td>AREQUIPA</td>\n",
       "      <td>AREQUIPA</td>\n",
       "      <td>PAUCARPATA</td>\n",
       "      <td>AG</td>\n",
       "      <td>75.0</td>\n",
       "      <td>FEMENINO</td>\n",
       "      <td>20230123.0</td>\n",
       "      <td>40112.0</td>\n",
       "      <td>13889743.0</td>\n",
       "    </tr>\n",
       "    <tr>\n",
       "      <th>3</th>\n",
       "      <td>20230524</td>\n",
       "      <td>LIMA</td>\n",
       "      <td>LIMA</td>\n",
       "      <td>LIMA</td>\n",
       "      <td>PR</td>\n",
       "      <td>23.0</td>\n",
       "      <td>MASCULINO</td>\n",
       "      <td>20210121.0</td>\n",
       "      <td>150101.0</td>\n",
       "      <td>13889774.0</td>\n",
       "    </tr>\n",
       "    <tr>\n",
       "      <th>4</th>\n",
       "      <td>20230524</td>\n",
       "      <td>JUNIN</td>\n",
       "      <td>HUANCAYO</td>\n",
       "      <td>HUANCAYO</td>\n",
       "      <td>AG</td>\n",
       "      <td>24.0</td>\n",
       "      <td>FEMENINO</td>\n",
       "      <td>20220119.0</td>\n",
       "      <td>120101.0</td>\n",
       "      <td>13889793.0</td>\n",
       "    </tr>\n",
       "  </tbody>\n",
       "</table>\n",
       "</div>"
      ],
      "text/plain": [
       "   FECHA_CORTE DEPARTAMENTO PROVINCIA    DISTRITO METODODX  EDAD       SEXO  \\\n",
       "0     20230524     AREQUIPA  AREQUIPA   YANAHUARA      PCR  78.0   FEMENINO   \n",
       "1     20230524     AREQUIPA  AREQUIPA  PAUCARPATA       AG  67.0  MASCULINO   \n",
       "2     20230524     AREQUIPA  AREQUIPA  PAUCARPATA       AG  75.0   FEMENINO   \n",
       "3     20230524         LIMA      LIMA        LIMA       PR  23.0  MASCULINO   \n",
       "4     20230524        JUNIN  HUANCAYO    HUANCAYO       AG  24.0   FEMENINO   \n",
       "\n",
       "   FECHA_RESULTADO    UBIGEO  id_persona  \n",
       "0       20220108.0   40126.0  13889713.0  \n",
       "1       20210628.0   40112.0  13889735.0  \n",
       "2       20230123.0   40112.0  13889743.0  \n",
       "3       20210121.0  150101.0  13889774.0  \n",
       "4       20220119.0  120101.0  13889793.0  "
      ]
     },
     "execution_count": 3,
     "metadata": {},
     "output_type": "execute_result"
    }
   ],
   "source": [
    "df_min = pd.read_csv('../data/positivos_covid.csv', delimiter=';')\n",
    "df_min.head(5)"
   ]
  },
  {
   "cell_type": "code",
   "execution_count": 4,
   "metadata": {},
   "outputs": [
    {
     "name": "stdout",
     "output_type": "stream",
     "text": [
      "<class 'pandas.core.frame.DataFrame'>\n",
      "RangeIndex: 4507010 entries, 0 to 4507009\n",
      "Data columns (total 10 columns):\n",
      " #   Column           Dtype  \n",
      "---  ------           -----  \n",
      " 0   FECHA_CORTE      int64  \n",
      " 1   DEPARTAMENTO     object \n",
      " 2   PROVINCIA        object \n",
      " 3   DISTRITO         object \n",
      " 4   METODODX         object \n",
      " 5   EDAD             float64\n",
      " 6   SEXO             object \n",
      " 7   FECHA_RESULTADO  float64\n",
      " 8   UBIGEO           float64\n",
      " 9   id_persona       float64\n",
      "dtypes: float64(4), int64(1), object(5)\n",
      "memory usage: 343.9+ MB\n"
     ]
    }
   ],
   "source": [
    "df_min.info()"
   ]
  },
  {
   "cell_type": "code",
   "execution_count": 5,
   "metadata": {},
   "outputs": [
    {
     "data": {
      "text/plain": [
       "(4507010, 10)"
      ]
     },
     "execution_count": 5,
     "metadata": {},
     "output_type": "execute_result"
    }
   ],
   "source": [
    "df_min.shape"
   ]
  },
  {
   "cell_type": "code",
   "execution_count": 6,
   "metadata": {},
   "outputs": [
    {
     "data": {
      "text/html": [
       "<div>\n",
       "<style scoped>\n",
       "    .dataframe tbody tr th:only-of-type {\n",
       "        vertical-align: middle;\n",
       "    }\n",
       "\n",
       "    .dataframe tbody tr th {\n",
       "        vertical-align: top;\n",
       "    }\n",
       "\n",
       "    .dataframe thead th {\n",
       "        text-align: right;\n",
       "    }\n",
       "</style>\n",
       "<table border=\"1\" class=\"dataframe\">\n",
       "  <thead>\n",
       "    <tr style=\"text-align: right;\">\n",
       "      <th></th>\n",
       "      <th>DEPARTAMENTO</th>\n",
       "      <th>cases_per_region</th>\n",
       "    </tr>\n",
       "  </thead>\n",
       "  <tbody>\n",
       "    <tr>\n",
       "      <th>0</th>\n",
       "      <td>AMAZONAS</td>\n",
       "      <td>51203</td>\n",
       "    </tr>\n",
       "    <tr>\n",
       "      <th>1</th>\n",
       "      <td>ANCASH</td>\n",
       "      <td>159769</td>\n",
       "    </tr>\n",
       "    <tr>\n",
       "      <th>2</th>\n",
       "      <td>APURIMAC</td>\n",
       "      <td>46354</td>\n",
       "    </tr>\n",
       "    <tr>\n",
       "      <th>3</th>\n",
       "      <td>AREQUIPA</td>\n",
       "      <td>292025</td>\n",
       "    </tr>\n",
       "    <tr>\n",
       "      <th>4</th>\n",
       "      <td>AYACUCHO</td>\n",
       "      <td>55801</td>\n",
       "    </tr>\n",
       "  </tbody>\n",
       "</table>\n",
       "</div>"
      ],
      "text/plain": [
       "  DEPARTAMENTO  cases_per_region\n",
       "0     AMAZONAS             51203\n",
       "1       ANCASH            159769\n",
       "2     APURIMAC             46354\n",
       "3     AREQUIPA            292025\n",
       "4     AYACUCHO             55801"
      ]
     },
     "execution_count": 6,
     "metadata": {},
     "output_type": "execute_result"
    }
   ],
   "source": [
    "df_per_reg = df_min.groupby('DEPARTAMENTO').size().reset_index(name='cases_per_region')\n",
    "df_per_reg.head(5)"
   ]
  },
  {
   "cell_type": "code",
   "execution_count": 7,
   "metadata": {},
   "outputs": [
    {
     "data": {
      "text/plain": [
       "['AREQUIPA',\n",
       " 'LIMA',\n",
       " 'JUNIN',\n",
       " 'PUNO',\n",
       " 'CUSCO',\n",
       " 'CAJAMARCA',\n",
       " 'LAMBAYEQUE',\n",
       " 'APURIMAC',\n",
       " 'LA LIBERTAD',\n",
       " 'AMAZONAS',\n",
       " 'AYACUCHO',\n",
       " 'HUANUCO',\n",
       " 'UCAYALI',\n",
       " 'CALLAO',\n",
       " 'ICA',\n",
       " 'PIURA',\n",
       " 'ANCASH',\n",
       " 'TACNA',\n",
       " 'PASCO',\n",
       " 'LORETO',\n",
       " 'SAN MARTIN',\n",
       " 'MOQUEGUA',\n",
       " 'MADRE DE DIOS',\n",
       " 'HUANCAVELICA',\n",
       " 'TUMBES']"
      ]
     },
     "execution_count": 7,
     "metadata": {},
     "output_type": "execute_result"
    }
   ],
   "source": [
    "regions = df_min['DEPARTAMENTO'].unique().tolist()\n",
    "regions"
   ]
  },
  {
   "cell_type": "code",
   "execution_count": 8,
   "metadata": {},
   "outputs": [],
   "source": [
    "import seaborn as sns\n",
    "import matplotlib.pyplot as plt"
   ]
  },
  {
   "cell_type": "code",
   "execution_count": 9,
   "metadata": {},
   "outputs": [
    {
     "data": {
      "image/png": "[encoded data removed]",
      "text/plain": [
       "<Figure size 720x432 with 1 Axes>"
      ]
     },
     "metadata": {
      "needs_background": "light"
     },
     "output_type": "display_data"
    }
   ],
   "source": [
    "plt.figure(figsize=(10, 6))\n",
    "sns.barplot(x='cases_per_region', y='DEPARTAMENTO', data=df_per_reg)\n",
    "plt.xlabel('Casos') \n",
    "plt.ylabel('Región')  \n",
    "plt.show()"
   ]
  },
  {
   "cell_type": "code",
   "execution_count": 10,
   "metadata": {},
   "outputs": [
    {
     "name": "stdout",
     "output_type": "stream",
     "text": [
      "<class 'pandas.core.frame.DataFrame'>\n",
      "RangeIndex: 4507010 entries, 0 to 4507009\n",
      "Data columns (total 10 columns):\n",
      " #   Column           Dtype         \n",
      "---  ------           -----         \n",
      " 0   FECHA_CORTE      datetime64[ns]\n",
      " 1   DEPARTAMENTO     object        \n",
      " 2   PROVINCIA        object        \n",
      " 3   DISTRITO         object        \n",
      " 4   METODODX         object        \n",
      " 5   EDAD             float64       \n",
      " 6   SEXO             object        \n",
      " 7   FECHA_RESULTADO  float64       \n",
      " 8   UBIGEO           float64       \n",
      " 9   id_persona       float64       \n",
      "dtypes: datetime64[ns](1), float64(4), object(5)\n",
      "memory usage: 343.9+ MB\n"
     ]
    }
   ],
   "source": [
    "df_min['FECHA_CORTE'] = pd.to_datetime(df_min['FECHA_CORTE'], format='%Y%m%d')\n",
    "df_min.info()"
   ]
  },
  {
   "cell_type": "code",
   "execution_count": 11,
   "metadata": {},
   "outputs": [
    {
     "data": {
      "text/html": [
       "<div>\n",
       "<style scoped>\n",
       "    .dataframe tbody tr th:only-of-type {\n",
       "        vertical-align: middle;\n",
       "    }\n",
       "\n",
       "    .dataframe tbody tr th {\n",
       "        vertical-align: top;\n",
       "    }\n",
       "\n",
       "    .dataframe thead th {\n",
       "        text-align: right;\n",
       "    }\n",
       "</style>\n",
       "<table border=\"1\" class=\"dataframe\">\n",
       "  <thead>\n",
       "    <tr style=\"text-align: right;\">\n",
       "      <th></th>\n",
       "      <th>FECHA_CORTE</th>\n",
       "      <th>DEPARTAMENTO</th>\n",
       "      <th>PROVINCIA</th>\n",
       "      <th>DISTRITO</th>\n",
       "      <th>METODODX</th>\n",
       "      <th>EDAD</th>\n",
       "      <th>SEXO</th>\n",
       "      <th>FECHA_RESULTADO</th>\n",
       "      <th>UBIGEO</th>\n",
       "      <th>id_persona</th>\n",
       "    </tr>\n",
       "  </thead>\n",
       "  <tbody>\n",
       "    <tr>\n",
       "      <th>0</th>\n",
       "      <td>2023-05-24</td>\n",
       "      <td>AREQUIPA</td>\n",
       "      <td>AREQUIPA</td>\n",
       "      <td>YANAHUARA</td>\n",
       "      <td>PCR</td>\n",
       "      <td>78.0</td>\n",
       "      <td>FEMENINO</td>\n",
       "      <td>20220108.0</td>\n",
       "      <td>40126.0</td>\n",
       "      <td>13889713.0</td>\n",
       "    </tr>\n",
       "    <tr>\n",
       "      <th>1</th>\n",
       "      <td>2023-05-24</td>\n",
       "      <td>AREQUIPA</td>\n",
       "      <td>AREQUIPA</td>\n",
       "      <td>PAUCARPATA</td>\n",
       "      <td>AG</td>\n",
       "      <td>67.0</td>\n",
       "      <td>MASCULINO</td>\n",
       "      <td>20210628.0</td>\n",
       "      <td>40112.0</td>\n",
       "      <td>13889735.0</td>\n",
       "    </tr>\n",
       "    <tr>\n",
       "      <th>2</th>\n",
       "      <td>2023-05-24</td>\n",
       "      <td>AREQUIPA</td>\n",
       "      <td>AREQUIPA</td>\n",
       "      <td>PAUCARPATA</td>\n",
       "      <td>AG</td>\n",
       "      <td>75.0</td>\n",
       "      <td>FEMENINO</td>\n",
       "      <td>20230123.0</td>\n",
       "      <td>40112.0</td>\n",
       "      <td>13889743.0</td>\n",
       "    </tr>\n",
       "  </tbody>\n",
       "</table>\n",
       "</div>"
      ],
      "text/plain": [
       "  FECHA_CORTE DEPARTAMENTO PROVINCIA    DISTRITO METODODX  EDAD       SEXO  \\\n",
       "0  2023-05-24     AREQUIPA  AREQUIPA   YANAHUARA      PCR  78.0   FEMENINO   \n",
       "1  2023-05-24     AREQUIPA  AREQUIPA  PAUCARPATA       AG  67.0  MASCULINO   \n",
       "2  2023-05-24     AREQUIPA  AREQUIPA  PAUCARPATA       AG  75.0   FEMENINO   \n",
       "\n",
       "   FECHA_RESULTADO   UBIGEO  id_persona  \n",
       "0       20220108.0  40126.0  13889713.0  \n",
       "1       20210628.0  40112.0  13889735.0  \n",
       "2       20230123.0  40112.0  13889743.0  "
      ]
     },
     "execution_count": 11,
     "metadata": {},
     "output_type": "execute_result"
    }
   ],
   "source": [
    "df_min.head(3)"
   ]
  },
  {
   "cell_type": "code",
   "execution_count": 16,
   "metadata": {},
   "outputs": [
    {
     "data": {
      "text/plain": [
       "0"
      ]
     },
     "execution_count": 16,
     "metadata": {},
     "output_type": "execute_result"
    }
   ],
   "source": [
    "gc.collect()"
   ]
  },
  {
   "cell_type": "code",
   "execution_count": 15,
   "metadata": {},
   "outputs": [],
   "source": [
    "del df_min"
   ]
  },
  {
   "cell_type": "code",
   "execution_count": 13,
   "metadata": {},
   "outputs": [
    {
     "data": {
      "text/plain": [
       "(292025, 10)"
      ]
     },
     "execution_count": 13,
     "metadata": {},
     "output_type": "execute_result"
    }
   ],
   "source": [
    "df_aqp = df_min[df_min['DEPARTAMENTO'] == 'AREQUIPA']\n",
    "df_aqp.shape"
   ]
  },
  {
   "cell_type": "code",
   "execution_count": 17,
   "metadata": {},
   "outputs": [
    {
     "data": {
      "text/html": [
       "<div>\n",
       "<style scoped>\n",
       "    .dataframe tbody tr th:only-of-type {\n",
       "        vertical-align: middle;\n",
       "    }\n",
       "\n",
       "    .dataframe tbody tr th {\n",
       "        vertical-align: top;\n",
       "    }\n",
       "\n",
       "    .dataframe thead th {\n",
       "        text-align: right;\n",
       "    }\n",
       "</style>\n",
       "<table border=\"1\" class=\"dataframe\">\n",
       "  <thead>\n",
       "    <tr style=\"text-align: right;\">\n",
       "      <th></th>\n",
       "      <th>FECHA_CORTE</th>\n",
       "      <th>DEPARTAMENTO</th>\n",
       "      <th>PROVINCIA</th>\n",
       "      <th>DISTRITO</th>\n",
       "      <th>METODODX</th>\n",
       "      <th>EDAD</th>\n",
       "      <th>SEXO</th>\n",
       "      <th>FECHA_RESULTADO</th>\n",
       "      <th>UBIGEO</th>\n",
       "      <th>id_persona</th>\n",
       "    </tr>\n",
       "  </thead>\n",
       "  <tbody>\n",
       "    <tr>\n",
       "      <th>0</th>\n",
       "      <td>2023-05-24</td>\n",
       "      <td>AREQUIPA</td>\n",
       "      <td>AREQUIPA</td>\n",
       "      <td>YANAHUARA</td>\n",
       "      <td>PCR</td>\n",
       "      <td>78.0</td>\n",
       "      <td>FEMENINO</td>\n",
       "      <td>20220108.0</td>\n",
       "      <td>40126.0</td>\n",
       "      <td>13889713.0</td>\n",
       "    </tr>\n",
       "    <tr>\n",
       "      <th>1</th>\n",
       "      <td>2023-05-24</td>\n",
       "      <td>AREQUIPA</td>\n",
       "      <td>AREQUIPA</td>\n",
       "      <td>PAUCARPATA</td>\n",
       "      <td>AG</td>\n",
       "      <td>67.0</td>\n",
       "      <td>MASCULINO</td>\n",
       "      <td>20210628.0</td>\n",
       "      <td>40112.0</td>\n",
       "      <td>13889735.0</td>\n",
       "    </tr>\n",
       "    <tr>\n",
       "      <th>2</th>\n",
       "      <td>2023-05-24</td>\n",
       "      <td>AREQUIPA</td>\n",
       "      <td>AREQUIPA</td>\n",
       "      <td>PAUCARPATA</td>\n",
       "      <td>AG</td>\n",
       "      <td>75.0</td>\n",
       "      <td>FEMENINO</td>\n",
       "      <td>20230123.0</td>\n",
       "      <td>40112.0</td>\n",
       "      <td>13889743.0</td>\n",
       "    </tr>\n",
       "    <tr>\n",
       "      <th>7</th>\n",
       "      <td>2023-05-24</td>\n",
       "      <td>AREQUIPA</td>\n",
       "      <td>AREQUIPA</td>\n",
       "      <td>AREQUIPA</td>\n",
       "      <td>AG</td>\n",
       "      <td>56.0</td>\n",
       "      <td>MASCULINO</td>\n",
       "      <td>20221223.0</td>\n",
       "      <td>40101.0</td>\n",
       "      <td>13889705.0</td>\n",
       "    </tr>\n",
       "    <tr>\n",
       "      <th>8</th>\n",
       "      <td>2023-05-24</td>\n",
       "      <td>AREQUIPA</td>\n",
       "      <td>AREQUIPA</td>\n",
       "      <td>JOSE LUIS BUSTAMANTE Y RIVERO</td>\n",
       "      <td>PR</td>\n",
       "      <td>77.0</td>\n",
       "      <td>FEMENINO</td>\n",
       "      <td>20201029.0</td>\n",
       "      <td>40129.0</td>\n",
       "      <td>13889713.0</td>\n",
       "    </tr>\n",
       "  </tbody>\n",
       "</table>\n",
       "</div>"
      ],
      "text/plain": [
       "  FECHA_CORTE DEPARTAMENTO PROVINCIA                       DISTRITO METODODX  \\\n",
       "0  2023-05-24     AREQUIPA  AREQUIPA                      YANAHUARA      PCR   \n",
       "1  2023-05-24     AREQUIPA  AREQUIPA                     PAUCARPATA       AG   \n",
       "2  2023-05-24     AREQUIPA  AREQUIPA                     PAUCARPATA       AG   \n",
       "7  2023-05-24     AREQUIPA  AREQUIPA                       AREQUIPA       AG   \n",
       "8  2023-05-24     AREQUIPA  AREQUIPA  JOSE LUIS BUSTAMANTE Y RIVERO       PR   \n",
       "\n",
       "   EDAD       SEXO  FECHA_RESULTADO   UBIGEO  id_persona  \n",
       "0  78.0   FEMENINO       20220108.0  40126.0  13889713.0  \n",
       "1  67.0  MASCULINO       20210628.0  40112.0  13889735.0  \n",
       "2  75.0   FEMENINO       20230123.0  40112.0  13889743.0  \n",
       "7  56.0  MASCULINO       20221223.0  40101.0  13889705.0  \n",
       "8  77.0   FEMENINO       20201029.0  40129.0  13889713.0  "
      ]
     },
     "execution_count": 17,
     "metadata": {},
     "output_type": "execute_result"
    }
   ],
   "source": [
    "df_aqp.head()"
   ]
  },
  {
   "attachments": {},
   "cell_type": "markdown",
   "metadata": {},
   "source": [
    "# OECDE"
   ]
  },
  {
   "attachments": {},
   "cell_type": "markdown",
   "metadata": {},
   "source": [
    "# LINK \n",
    "https://www.ecdc.europa.eu/en/publications-data/download-todays-data-geographic-distribution-covid-19-cases-worldwide"
   ]
  },
  {
   "cell_type": "code",
   "execution_count": 49,
   "metadata": {},
   "outputs": [
    {
     "data": {
      "text/plain": [
       "529873"
      ]
     },
     "execution_count": 49,
     "metadata": {},
     "output_type": "execute_result"
    }
   ],
   "source": [
    "gc.collect()"
   ]
  },
  {
   "cell_type": "code",
   "execution_count": 25,
   "metadata": {},
   "outputs": [
    {
     "data": {
      "text/html": [
       "<div>\n",
       "<style scoped>\n",
       "    .dataframe tbody tr th:only-of-type {\n",
       "        vertical-align: middle;\n",
       "    }\n",
       "\n",
       "    .dataframe tbody tr th {\n",
       "        vertical-align: top;\n",
       "    }\n",
       "\n",
       "    .dataframe thead th {\n",
       "        text-align: right;\n",
       "    }\n",
       "</style>\n",
       "<table border=\"1\" class=\"dataframe\">\n",
       "  <thead>\n",
       "    <tr style=\"text-align: right;\">\n",
       "      <th></th>\n",
       "      <th>dateRep</th>\n",
       "      <th>cases</th>\n",
       "      <th>deaths</th>\n",
       "      <th>continentExp</th>\n",
       "    </tr>\n",
       "  </thead>\n",
       "  <tbody>\n",
       "    <tr>\n",
       "      <th>0</th>\n",
       "      <td>14/12/2020</td>\n",
       "      <td>746</td>\n",
       "      <td>6</td>\n",
       "      <td>Asia</td>\n",
       "    </tr>\n",
       "    <tr>\n",
       "      <th>1</th>\n",
       "      <td>13/12/2020</td>\n",
       "      <td>298</td>\n",
       "      <td>9</td>\n",
       "      <td>Asia</td>\n",
       "    </tr>\n",
       "    <tr>\n",
       "      <th>2</th>\n",
       "      <td>12/12/2020</td>\n",
       "      <td>113</td>\n",
       "      <td>11</td>\n",
       "      <td>Asia</td>\n",
       "    </tr>\n",
       "  </tbody>\n",
       "</table>\n",
       "</div>"
      ],
      "text/plain": [
       "      dateRep  cases  deaths continentExp\n",
       "0  14/12/2020    746       6         Asia\n",
       "1  13/12/2020    298       9         Asia\n",
       "2  12/12/2020    113      11         Asia"
      ]
     },
     "execution_count": 25,
     "metadata": {},
     "output_type": "execute_result"
    }
   ],
   "source": [
    "ocde = pd.read_csv('../data/oecd-data-covid.csv', usecols=['dateRep', 'cases', 'deaths', 'continentExp'])\n",
    "ocde.head(3)"
   ]
  },
  {
   "cell_type": "code",
   "execution_count": 26,
   "metadata": {},
   "outputs": [
    {
     "data": {
      "text/plain": [
       "(61900, 4)"
      ]
     },
     "execution_count": 26,
     "metadata": {},
     "output_type": "execute_result"
    }
   ],
   "source": [
    "ocde.shape"
   ]
  },
  {
   "cell_type": "code",
   "execution_count": 27,
   "metadata": {},
   "outputs": [
    {
     "name": "stdout",
     "output_type": "stream",
     "text": [
      "<class 'pandas.core.frame.DataFrame'>\n",
      "RangeIndex: 61900 entries, 0 to 61899\n",
      "Data columns (total 4 columns):\n",
      " #   Column        Non-Null Count  Dtype \n",
      "---  ------        --------------  ----- \n",
      " 0   dateRep       61900 non-null  object\n",
      " 1   cases         61900 non-null  int64 \n",
      " 2   deaths        61900 non-null  int64 \n",
      " 3   continentExp  61900 non-null  object\n",
      "dtypes: int64(2), object(2)\n",
      "memory usage: 1.9+ MB\n"
     ]
    }
   ],
   "source": [
    "ocde.info()"
   ]
  },
  {
   "cell_type": "code",
   "execution_count": 29,
   "metadata": {},
   "outputs": [
    {
     "data": {
      "text/plain": [
       "array(['Asia', 'Europe', 'Africa', 'America', 'Oceania', 'Other'],\n",
       "      dtype=object)"
      ]
     },
     "execution_count": 29,
     "metadata": {},
     "output_type": "execute_result"
    }
   ],
   "source": [
    "ocde['continentExp'].unique()"
   ]
  },
  {
   "cell_type": "code",
   "execution_count": 30,
   "metadata": {},
   "outputs": [
    {
     "data": {
      "text/html": [
       "<div>\n",
       "<style scoped>\n",
       "    .dataframe tbody tr th:only-of-type {\n",
       "        vertical-align: middle;\n",
       "    }\n",
       "\n",
       "    .dataframe tbody tr th {\n",
       "        vertical-align: top;\n",
       "    }\n",
       "\n",
       "    .dataframe thead th {\n",
       "        text-align: right;\n",
       "    }\n",
       "</style>\n",
       "<table border=\"1\" class=\"dataframe\">\n",
       "  <thead>\n",
       "    <tr style=\"text-align: right;\">\n",
       "      <th></th>\n",
       "      <th>continentExp</th>\n",
       "      <th>cases_per_continent</th>\n",
       "    </tr>\n",
       "  </thead>\n",
       "  <tbody>\n",
       "    <tr>\n",
       "      <th>0</th>\n",
       "      <td>Africa</td>\n",
       "      <td>14981</td>\n",
       "    </tr>\n",
       "    <tr>\n",
       "      <th>1</th>\n",
       "      <td>America</td>\n",
       "      <td>13742</td>\n",
       "    </tr>\n",
       "    <tr>\n",
       "      <th>2</th>\n",
       "      <td>Asia</td>\n",
       "      <td>13241</td>\n",
       "    </tr>\n",
       "    <tr>\n",
       "      <th>3</th>\n",
       "      <td>Europe</td>\n",
       "      <td>17372</td>\n",
       "    </tr>\n",
       "    <tr>\n",
       "      <th>4</th>\n",
       "      <td>Oceania</td>\n",
       "      <td>2500</td>\n",
       "    </tr>\n",
       "    <tr>\n",
       "      <th>5</th>\n",
       "      <td>Other</td>\n",
       "      <td>64</td>\n",
       "    </tr>\n",
       "  </tbody>\n",
       "</table>\n",
       "</div>"
      ],
      "text/plain": [
       "  continentExp  cases_per_continent\n",
       "0       Africa                14981\n",
       "1      America                13742\n",
       "2         Asia                13241\n",
       "3       Europe                17372\n",
       "4      Oceania                 2500\n",
       "5        Other                   64"
      ]
     },
     "execution_count": 30,
     "metadata": {},
     "output_type": "execute_result"
    }
   ],
   "source": [
    "df_per_continent = ocde.groupby('continentExp').size().reset_index(name='cases_per_continent')\n",
    "df_per_continent.head(6)"
   ]
  },
  {
   "cell_type": "code",
   "execution_count": 36,
   "metadata": {},
   "outputs": [
    {
     "data": {
      "text/html": [
       "<div>\n",
       "<style scoped>\n",
       "    .dataframe tbody tr th:only-of-type {\n",
       "        vertical-align: middle;\n",
       "    }\n",
       "\n",
       "    .dataframe tbody tr th {\n",
       "        vertical-align: top;\n",
       "    }\n",
       "\n",
       "    .dataframe thead th {\n",
       "        text-align: right;\n",
       "    }\n",
       "</style>\n",
       "<table border=\"1\" class=\"dataframe\">\n",
       "  <thead>\n",
       "    <tr style=\"text-align: right;\">\n",
       "      <th></th>\n",
       "      <th>dateRep</th>\n",
       "      <th>cases</th>\n",
       "      <th>deaths</th>\n",
       "      <th>continentExp</th>\n",
       "    </tr>\n",
       "  </thead>\n",
       "  <tbody>\n",
       "    <tr>\n",
       "      <th>0</th>\n",
       "      <td>14/12/2020</td>\n",
       "      <td>746</td>\n",
       "      <td>6</td>\n",
       "      <td>Asia</td>\n",
       "    </tr>\n",
       "    <tr>\n",
       "      <th>1</th>\n",
       "      <td>13/12/2020</td>\n",
       "      <td>298</td>\n",
       "      <td>9</td>\n",
       "      <td>Asia</td>\n",
       "    </tr>\n",
       "    <tr>\n",
       "      <th>2</th>\n",
       "      <td>12/12/2020</td>\n",
       "      <td>113</td>\n",
       "      <td>11</td>\n",
       "      <td>Asia</td>\n",
       "    </tr>\n",
       "    <tr>\n",
       "      <th>3</th>\n",
       "      <td>11/12/2020</td>\n",
       "      <td>63</td>\n",
       "      <td>10</td>\n",
       "      <td>Asia</td>\n",
       "    </tr>\n",
       "    <tr>\n",
       "      <th>4</th>\n",
       "      <td>10/12/2020</td>\n",
       "      <td>202</td>\n",
       "      <td>16</td>\n",
       "      <td>Asia</td>\n",
       "    </tr>\n",
       "  </tbody>\n",
       "</table>\n",
       "</div>"
      ],
      "text/plain": [
       "      dateRep  cases  deaths continentExp\n",
       "0  14/12/2020    746       6         Asia\n",
       "1  13/12/2020    298       9         Asia\n",
       "2  12/12/2020    113      11         Asia\n",
       "3  11/12/2020     63      10         Asia\n",
       "4  10/12/2020    202      16         Asia"
      ]
     },
     "execution_count": 36,
     "metadata": {},
     "output_type": "execute_result"
    }
   ],
   "source": [
    "df = ocde[ocde['continentExp'] == 'Asia']\n",
    "df.head()"
   ]
  },
  {
   "cell_type": "code",
   "execution_count": 38,
   "metadata": {},
   "outputs": [
    {
     "name": "stderr",
     "output_type": "stream",
     "text": [
      "/home/lmoroco/Documentos/5to/PFC/OK/ML-Research-UNSA-UOKlahoma/venv/lib/python3.6/site-packages/ipykernel_launcher.py:1: SettingWithCopyWarning: \n",
      "A value is trying to be set on a copy of a slice from a DataFrame.\n",
      "Try using .loc[row_indexer,col_indexer] = value instead\n",
      "\n",
      "See the caveats in the documentation: https://pandas.pydata.org/pandas-docs/stable/user_guide/indexing.html#returning-a-view-versus-a-copy\n",
      "  \"\"\"Entry point for launching an IPython kernel.\n"
     ]
    },
    {
     "data": {
      "image/png": "[encoded data removed]",
      "text/plain": [
       "<Figure size 2448x504 with 1 Axes>"
      ]
     },
     "metadata": {
      "needs_background": "light"
     },
     "output_type": "display_data"
    }
   ],
   "source": [
    "df['dateRep'] = pd.to_datetime(df['dateRep'], format=\"%d/%m/%Y\")\n",
    "\n",
    "fig, ax = plt.subplots(figsize=(34,7))\n",
    "\n",
    "ax.plot(df.index, df['cases'], label='New cases', linewidth=0.5)\n",
    "ax.plot(df.index, df['deaths'], label='Deaths', linewidth=0.5)\n",
    "\n",
    "ax.set_xlabel('Time')\n",
    "ax.set_ylabel('Value')\n",
    "\n",
    "ax.set_title('New Cases and Deaths in Asia')\n",
    "ax.legend()\n",
    "plt.show()"
   ]
  },
  {
   "cell_type": "code",
   "execution_count": 6,
   "metadata": {},
   "outputs": [],
   "source": [
    "import pandas as pd \n",
    "import seaborn as sns\n",
    "import gc\n",
    "import matplotlib.pyplot as plt"
   ]
  },
  {
   "cell_type": "code",
   "execution_count": 102,
   "metadata": {},
   "outputs": [
    {
     "data": {
      "text/plain": [
       "11964"
      ]
     },
     "execution_count": 102,
     "metadata": {},
     "output_type": "execute_result"
    }
   ],
   "source": [
    "gc.collect()"
   ]
  },
  {
   "cell_type": "code",
   "execution_count": 20,
   "metadata": {},
   "outputs": [
    {
     "data": {
      "text/html": [
       "<div>\n",
       "<style scoped>\n",
       "    .dataframe tbody tr th:only-of-type {\n",
       "        vertical-align: middle;\n",
       "    }\n",
       "\n",
       "    .dataframe tbody tr th {\n",
       "        vertical-align: top;\n",
       "    }\n",
       "\n",
       "    .dataframe thead th {\n",
       "        text-align: right;\n",
       "    }\n",
       "</style>\n",
       "<table border=\"1\" class=\"dataframe\">\n",
       "  <thead>\n",
       "    <tr style=\"text-align: right;\">\n",
       "      <th></th>\n",
       "      <th>date</th>\n",
       "      <th>region</th>\n",
       "      <th>cases</th>\n",
       "      <th>cumulative cases</th>\n",
       "      <th>calc deaths</th>\n",
       "      <th>deaths</th>\n",
       "      <th>cumulative deaths</th>\n",
       "      <th>total_tests</th>\n",
       "      <th>negative_tests</th>\n",
       "      <th>pcr_test_positive</th>\n",
       "      <th>serological_test_positive</th>\n",
       "      <th>ag_test_positive</th>\n",
       "    </tr>\n",
       "  </thead>\n",
       "  <tbody>\n",
       "    <tr>\n",
       "      <th>0</th>\n",
       "      <td>13/03/2020</td>\n",
       "      <td>AREQUIPA</td>\n",
       "      <td>2</td>\n",
       "      <td>2</td>\n",
       "      <td>0</td>\n",
       "      <td>0</td>\n",
       "      <td>0</td>\n",
       "      <td>0</td>\n",
       "      <td>0</td>\n",
       "      <td>0</td>\n",
       "      <td>0</td>\n",
       "      <td>0</td>\n",
       "    </tr>\n",
       "    <tr>\n",
       "      <th>1</th>\n",
       "      <td>14/03/2020</td>\n",
       "      <td>AREQUIPA</td>\n",
       "      <td>0</td>\n",
       "      <td>2</td>\n",
       "      <td>0</td>\n",
       "      <td>0</td>\n",
       "      <td>0</td>\n",
       "      <td>0</td>\n",
       "      <td>0</td>\n",
       "      <td>0</td>\n",
       "      <td>0</td>\n",
       "      <td>0</td>\n",
       "    </tr>\n",
       "    <tr>\n",
       "      <th>2</th>\n",
       "      <td>15/03/2020</td>\n",
       "      <td>AREQUIPA</td>\n",
       "      <td>0</td>\n",
       "      <td>2</td>\n",
       "      <td>0</td>\n",
       "      <td>0</td>\n",
       "      <td>0</td>\n",
       "      <td>0</td>\n",
       "      <td>0</td>\n",
       "      <td>0</td>\n",
       "      <td>0</td>\n",
       "      <td>0</td>\n",
       "    </tr>\n",
       "    <tr>\n",
       "      <th>3</th>\n",
       "      <td>16/03/2020</td>\n",
       "      <td>AREQUIPA</td>\n",
       "      <td>0</td>\n",
       "      <td>2</td>\n",
       "      <td>0</td>\n",
       "      <td>0</td>\n",
       "      <td>0</td>\n",
       "      <td>0</td>\n",
       "      <td>0</td>\n",
       "      <td>0</td>\n",
       "      <td>0</td>\n",
       "      <td>0</td>\n",
       "    </tr>\n",
       "    <tr>\n",
       "      <th>4</th>\n",
       "      <td>17/03/2020</td>\n",
       "      <td>AREQUIPA</td>\n",
       "      <td>0</td>\n",
       "      <td>2</td>\n",
       "      <td>0</td>\n",
       "      <td>0</td>\n",
       "      <td>0</td>\n",
       "      <td>0</td>\n",
       "      <td>0</td>\n",
       "      <td>0</td>\n",
       "      <td>0</td>\n",
       "      <td>0</td>\n",
       "    </tr>\n",
       "  </tbody>\n",
       "</table>\n",
       "</div>"
      ],
      "text/plain": [
       "         date    region  cases  cumulative cases  calc deaths  deaths  \\\n",
       "0  13/03/2020  AREQUIPA      2                 2            0       0   \n",
       "1  14/03/2020  AREQUIPA      0                 2            0       0   \n",
       "2  15/03/2020  AREQUIPA      0                 2            0       0   \n",
       "3  16/03/2020  AREQUIPA      0                 2            0       0   \n",
       "4  17/03/2020  AREQUIPA      0                 2            0       0   \n",
       "\n",
       "   cumulative deaths  total_tests  negative_tests  pcr_test_positive  \\\n",
       "0                  0            0               0                  0   \n",
       "1                  0            0               0                  0   \n",
       "2                  0            0               0                  0   \n",
       "3                  0            0               0                  0   \n",
       "4                  0            0               0                  0   \n",
       "\n",
       "   serological_test_positive  ag_test_positive  \n",
       "0                          0                 0  \n",
       "1                          0                 0  \n",
       "2                          0                 0  \n",
       "3                          0                 0  \n",
       "4                          0                 0  "
      ]
     },
     "execution_count": 20,
     "metadata": {},
     "output_type": "execute_result"
    }
   ],
   "source": [
    "df = pd.read_csv('../data/arequipa_data.csv', sep=';')\n",
    "df.head(5)"
   ]
  },
  {
   "cell_type": "code",
   "execution_count": 21,
   "metadata": {},
   "outputs": [
    {
     "data": {
      "text/plain": [
       "(294, 12)"
      ]
     },
     "execution_count": 21,
     "metadata": {},
     "output_type": "execute_result"
    }
   ],
   "source": [
    "df.shape"
   ]
  },
  {
   "attachments": {},
   "cell_type": "markdown",
   "metadata": {},
   "source": [
    "# Prof. Yuber - Data 'arequipa_data_ALL'"
   ]
  },
  {
   "cell_type": "code",
   "execution_count": 103,
   "metadata": {},
   "outputs": [],
   "source": [
    "from matplotlib import pyplot as plt"
   ]
  },
  {
   "cell_type": "code",
   "execution_count": 104,
   "metadata": {},
   "outputs": [
    {
     "data": {
      "text/html": [
       "<div>\n",
       "<style scoped>\n",
       "    .dataframe tbody tr th:only-of-type {\n",
       "        vertical-align: middle;\n",
       "    }\n",
       "\n",
       "    .dataframe tbody tr th {\n",
       "        vertical-align: top;\n",
       "    }\n",
       "\n",
       "    .dataframe thead th {\n",
       "        text-align: right;\n",
       "    }\n",
       "</style>\n",
       "<table border=\"1\" class=\"dataframe\">\n",
       "  <thead>\n",
       "    <tr style=\"text-align: right;\">\n",
       "      <th></th>\n",
       "      <th>date</th>\n",
       "      <th>cases</th>\n",
       "    </tr>\n",
       "  </thead>\n",
       "  <tbody>\n",
       "    <tr>\n",
       "      <th>0</th>\n",
       "      <td>13/03/2020</td>\n",
       "      <td>2</td>\n",
       "    </tr>\n",
       "    <tr>\n",
       "      <th>1</th>\n",
       "      <td>14/03/2020</td>\n",
       "      <td>0</td>\n",
       "    </tr>\n",
       "    <tr>\n",
       "      <th>2</th>\n",
       "      <td>15/03/2020</td>\n",
       "      <td>0</td>\n",
       "    </tr>\n",
       "    <tr>\n",
       "      <th>3</th>\n",
       "      <td>16/03/2020</td>\n",
       "      <td>0</td>\n",
       "    </tr>\n",
       "    <tr>\n",
       "      <th>4</th>\n",
       "      <td>17/03/2020</td>\n",
       "      <td>0</td>\n",
       "    </tr>\n",
       "  </tbody>\n",
       "</table>\n",
       "</div>"
      ],
      "text/plain": [
       "         date  cases\n",
       "0  13/03/2020      2\n",
       "1  14/03/2020      0\n",
       "2  15/03/2020      0\n",
       "3  16/03/2020      0\n",
       "4  17/03/2020      0"
      ]
     },
     "execution_count": 104,
     "metadata": {},
     "output_type": "execute_result"
    }
   ],
   "source": [
    "df_aqp_all = pd.read_csv('../data/arequipa_data ALL.csv', sep=';', usecols=['date', 'cases'])\n",
    "df_aqp_all.head(5)"
   ]
  },
  {
   "cell_type": "code",
   "execution_count": 105,
   "metadata": {},
   "outputs": [
    {
     "data": {
      "text/html": [
       "<div>\n",
       "<style scoped>\n",
       "    .dataframe tbody tr th:only-of-type {\n",
       "        vertical-align: middle;\n",
       "    }\n",
       "\n",
       "    .dataframe tbody tr th {\n",
       "        vertical-align: top;\n",
       "    }\n",
       "\n",
       "    .dataframe thead th {\n",
       "        text-align: right;\n",
       "    }\n",
       "</style>\n",
       "<table border=\"1\" class=\"dataframe\">\n",
       "  <thead>\n",
       "    <tr style=\"text-align: right;\">\n",
       "      <th></th>\n",
       "      <th>date</th>\n",
       "      <th>cases</th>\n",
       "    </tr>\n",
       "  </thead>\n",
       "  <tbody>\n",
       "    <tr>\n",
       "      <th>749</th>\n",
       "      <td>01/04/2022</td>\n",
       "      <td>47</td>\n",
       "    </tr>\n",
       "    <tr>\n",
       "      <th>750</th>\n",
       "      <td>02/04/2022</td>\n",
       "      <td>30</td>\n",
       "    </tr>\n",
       "    <tr>\n",
       "      <th>751</th>\n",
       "      <td>03/04/2022</td>\n",
       "      <td>10</td>\n",
       "    </tr>\n",
       "    <tr>\n",
       "      <th>752</th>\n",
       "      <td>04/04/2022</td>\n",
       "      <td>11</td>\n",
       "    </tr>\n",
       "    <tr>\n",
       "      <th>753</th>\n",
       "      <td>05/04/2022</td>\n",
       "      <td>16</td>\n",
       "    </tr>\n",
       "  </tbody>\n",
       "</table>\n",
       "</div>"
      ],
      "text/plain": [
       "           date  cases\n",
       "749  01/04/2022     47\n",
       "750  02/04/2022     30\n",
       "751  03/04/2022     10\n",
       "752  04/04/2022     11\n",
       "753  05/04/2022     16"
      ]
     },
     "execution_count": 105,
     "metadata": {},
     "output_type": "execute_result"
    }
   ],
   "source": [
    "df_aqp_all.tail(5)"
   ]
  },
  {
   "cell_type": "code",
   "execution_count": 106,
   "metadata": {},
   "outputs": [
    {
     "name": "stdout",
     "output_type": "stream",
     "text": [
      "<class 'pandas.core.frame.DataFrame'>\n",
      "RangeIndex: 754 entries, 0 to 753\n",
      "Data columns (total 2 columns):\n",
      " #   Column  Non-Null Count  Dtype \n",
      "---  ------  --------------  ----- \n",
      " 0   date    754 non-null    object\n",
      " 1   cases   754 non-null    int64 \n",
      "dtypes: int64(1), object(1)\n",
      "memory usage: 11.9+ KB\n"
     ]
    }
   ],
   "source": [
    "df_aqp_all.info()"
   ]
  },
  {
   "cell_type": "code",
   "execution_count": 107,
   "metadata": {},
   "outputs": [
    {
     "data": {
      "text/plain": [
       "(754, 2)"
      ]
     },
     "execution_count": 107,
     "metadata": {},
     "output_type": "execute_result"
    }
   ],
   "source": [
    "df_aqp_all.shape"
   ]
  },
  {
   "cell_type": "code",
   "execution_count": 108,
   "metadata": {},
   "outputs": [
    {
     "data": {
      "image/png": "[encoded data removed]",
      "text/plain": [
       "<Figure size 1080x504 with 1 Axes>"
      ]
     },
     "metadata": {
      "needs_background": "light"
     },
     "output_type": "display_data"
    }
   ],
   "source": [
    "df_aqp_all['date'] = pd.to_datetime(df_aqp_all['date'], format=\"%d/%m/%Y\")\n",
    "df_aqp_all = df_aqp_all.set_index('date')\n",
    "\n",
    "fig, ax = plt.subplots(figsize=(15,7))\n",
    "\n",
    "ax.plot(df_aqp_all.index, df_aqp_all['cases'], label='New cases', linewidth=0.5)\n",
    "#ax.plot(df_aqp_all.index, df_aqp_all['pcr_test_positive'], label='PCR Positive', linewidth=0.5)\n",
    "#ax.plot(df_aqp_all.index, df_aqp_all['deaths'], label='Deaths', linewidth=0.5)\n",
    "\n",
    "ax.set_xlabel('Time')\n",
    "ax.set_ylabel('Value')\n",
    "\n",
    "ax.set_title('New Cases and New cases in AQP')\n",
    "ax.legend()\n",
    "plt.show()"
   ]
  },
  {
   "cell_type": "code",
   "execution_count": 94,
   "metadata": {},
   "outputs": [],
   "source": [
    "import numpy as np\n",
    "from sklearn.preprocessing import MinMaxScaler"
   ]
  },
  {
   "cell_type": "code",
   "execution_count": 95,
   "metadata": {},
   "outputs": [],
   "source": [
    "resh = df_aqp_all.values.reshape(-1, 1)"
   ]
  },
  {
   "cell_type": "code",
   "execution_count": 96,
   "metadata": {},
   "outputs": [],
   "source": [
    "scaler = MinMaxScaler()\n",
    "serie_escalada = scaler.fit_transform(resh)"
   ]
  },
  {
   "cell_type": "code",
   "execution_count": 97,
   "metadata": {},
   "outputs": [],
   "source": [
    "df_aqp_all['cases'] = serie_escalada.flatten()"
   ]
  },
  {
   "cell_type": "code",
   "execution_count": 109,
   "metadata": {},
   "outputs": [
    {
     "data": {
      "text/plain": [
       "date\n",
       "2020-03-13     2\n",
       "2020-03-14     0\n",
       "2020-03-15     0\n",
       "2020-03-16     0\n",
       "2020-03-17     0\n",
       "              ..\n",
       "2022-04-01    47\n",
       "2022-04-02    30\n",
       "2022-04-03    10\n",
       "2022-04-04    11\n",
       "2022-04-05    16\n",
       "Name: cases, Length: 754, dtype: int64"
      ]
     },
     "execution_count": 109,
     "metadata": {},
     "output_type": "execute_result"
    }
   ],
   "source": [
    "df_aqp_all['cases']"
   ]
  },
  {
   "cell_type": "code",
   "execution_count": 110,
   "metadata": {},
   "outputs": [],
   "source": [
    "from tsia import markov, plot, network_graph"
   ]
  },
  {
   "cell_type": "code",
   "execution_count": 111,
   "metadata": {},
   "outputs": [],
   "source": [
    "X_binned, bin_edges = markov.discretize(df_aqp_all)"
   ]
  },
  {
   "cell_type": "code",
   "execution_count": 115,
   "metadata": {},
   "outputs": [
    {
     "data": {
      "text/plain": [
       "array([0, 0, 0, 0, 0, 0, 0, 0, 0, 0, 0, 0, 0, 0, 0, 0, 0, 0, 0, 0, 0, 0,\n",
       "       0, 0, 0, 0, 0, 0, 0, 0, 0, 0, 0, 0, 0, 0, 0, 2, 1, 2, 0, 0, 0, 2,\n",
       "       1, 3, 0, 1, 2, 2, 1, 1, 0, 2, 1, 0, 1, 2, 4, 0, 4, 3, 3, 4, 4, 4,\n",
       "       3, 1, 3, 3, 4, 3, 4, 4, 2, 3, 4, 5, 5, 0, 6, 3, 3, 4, 5, 3, 4, 1,\n",
       "       2, 2, 4, 3, 4, 3, 3, 3, 2, 4, 3, 4, 3, 4, 2, 5, 5, 4, 4, 4, 5, 2,\n",
       "       3, 5, 4, 3, 4, 4, 3, 2, 5, 4, 5, 5, 6, 3, 5, 4, 5, 4, 5, 4, 5, 6,\n",
       "       6, 5, 6, 0, 6, 4, 6, 5, 7, 7, 7, 5, 6, 7, 7, 7, 7, 7, 6, 6, 7, 7,\n",
       "       7, 7, 7, 4, 6, 7, 7, 7, 7, 7, 7, 6, 7, 7, 7, 7, 6, 6, 5, 6, 6, 6,\n",
       "       6, 6, 2, 4, 6, 7, 6, 6, 6, 4, 5, 6, 5, 5, 5, 6, 4, 4, 6, 5, 6, 6,\n",
       "       6, 4, 3, 4, 4, 3, 3, 3, 2, 2, 3, 3, 4, 3, 3, 1, 2, 3, 3, 3, 2, 2,\n",
       "       1, 3, 3, 2, 4, 4, 4, 1, 1, 3, 3, 3, 3, 1, 2, 2, 3, 2, 3, 2, 2, 0,\n",
       "       1, 2, 2, 3, 2, 2, 2, 1, 2, 2, 1, 2, 1, 0, 1, 2, 2, 3, 3, 3, 1, 2,\n",
       "       3, 3, 3, 2, 2, 0, 1, 0, 3, 2, 3, 2, 0, 2, 3, 3, 2, 2, 4, 0, 2, 3,\n",
       "       2, 2, 0, 2, 3, 3, 3, 2, 2, 1, 3, 0, 2, 4, 2, 4, 4, 4, 1, 3, 4, 5,\n",
       "       5, 5, 4, 3, 5, 5, 5, 5, 6, 5, 5, 6, 5, 5, 6, 5, 6, 3, 6, 6, 5, 6,\n",
       "       5, 4, 3, 5, 6, 6, 6, 5, 6, 2, 6, 5, 6, 5, 5, 5, 2, 5, 5, 5, 5, 5,\n",
       "       4, 3, 4, 5, 4, 5, 5, 4, 2, 5, 5, 4, 5, 4, 3, 3, 4, 4, 4, 5, 4, 4,\n",
       "       4, 4, 4, 4, 5, 5, 4, 2, 5, 5, 6, 4, 4, 4, 4, 4, 6, 5, 5, 5, 4, 3,\n",
       "       4, 5, 6, 5, 5, 5, 2, 5, 6, 5, 6, 5, 5, 4, 6, 6, 5, 6, 5, 5, 3, 5,\n",
       "       6, 6, 6, 6, 6, 4, 6, 7, 6, 6, 6, 6, 5, 6, 7, 6, 6, 7, 6, 4, 6, 7,\n",
       "       7, 7, 7, 7, 5, 5, 7, 6, 7, 7, 7, 5, 7, 7, 7, 6, 7, 7, 3, 6, 7, 7,\n",
       "       7, 7, 7, 5, 7, 7, 7, 7, 6, 6, 6, 6, 6, 6, 7, 6, 6, 6, 6, 6, 6, 6,\n",
       "       6, 6, 3, 5, 6, 5, 5, 5, 5, 3, 4, 5, 5, 4, 5, 4, 3, 4, 4, 3, 4, 6,\n",
       "       6, 6, 6, 6, 5, 4, 4, 3, 1, 4, 3, 3, 3, 3, 3, 1, 2, 4, 4, 3, 3, 2,\n",
       "       0, 2, 3, 3, 3, 2, 2, 1, 0, 2, 3, 2, 2, 2, 1, 2, 2, 2, 2, 2, 1, 0,\n",
       "       1, 2, 2, 2, 1, 1, 0, 1, 1, 1, 1, 1, 1, 0, 1, 1, 2, 2, 1, 1, 0, 0,\n",
       "       2, 1, 1, 0, 0, 0, 1, 0, 2, 1, 1, 0, 0, 1, 1, 0, 1, 0, 0, 0, 1, 1,\n",
       "       0, 1, 1, 0, 0, 0, 1, 1, 2, 1, 1, 0, 1, 1, 1, 0, 0, 1, 0, 1, 1, 2,\n",
       "       1, 2, 1, 0, 0, 2, 1, 1, 1, 0, 0, 0, 1, 1, 1, 1, 0, 0, 1, 2, 1, 0,\n",
       "       1, 0, 0, 1, 2, 1, 1, 1, 0, 0, 1, 1, 1, 0, 7, 0, 1, 2, 4, 5, 3, 4,\n",
       "       2, 1, 5, 6, 7, 7, 7, 7, 6, 7, 7, 7, 7, 7, 7, 7, 7, 7, 7, 7, 7, 7,\n",
       "       7, 7, 7, 7, 7, 7, 7, 7, 7, 7, 7, 7, 7, 7, 7, 7, 7, 7, 7, 7, 7, 6,\n",
       "       7, 7, 7, 6, 7, 6, 4, 5, 5, 5, 4, 5, 4, 3, 4, 4, 4, 4, 4, 3, 2, 2,\n",
       "       3, 3, 6, 3, 3, 1, 2, 3, 2, 1, 1, 2, 1, 1, 1, 1, 2, 1, 1, 0, 1, 1,\n",
       "       0, 2, 1, 0, 0, 0])"
      ]
     },
     "execution_count": 115,
     "metadata": {},
     "output_type": "execute_result"
    }
   ],
   "source": [
    "X_binned"
   ]
  },
  {
   "cell_type": "code",
   "execution_count": 116,
   "metadata": {},
   "outputs": [
    {
     "data": {
      "text/plain": [
       "array([   0. ,   25. ,   41. ,   72. ,  117.5,  182.5,  286.5,  520. ,\n",
       "       5093. ])"
      ]
     },
     "execution_count": 116,
     "metadata": {},
     "output_type": "execute_result"
    }
   ],
   "source": [
    "bin_edges"
   ]
  },
  {
   "cell_type": "code",
   "execution_count": 113,
   "metadata": {},
   "outputs": [
    {
     "data": {
      "text/plain": [
       "array([[55., 24., 13.,  1.,  1.,  0.,  2.,  1.],\n",
       "       [29., 35., 24.,  6.,  1.,  1.,  0.,  0.],\n",
       "       [ 6., 27., 26., 17., 10.,  6.,  1.,  0.],\n",
       "       [ 2.,  7., 19., 32., 21.,  6.,  3.,  0.],\n",
       "       [ 2.,  3.,  6., 24., 30., 20.,  9.,  0.],\n",
       "       [ 1.,  0.,  3.,  4., 22., 35., 25.,  4.],\n",
       "       [ 1.,  0.,  2.,  5.,  8., 22., 40., 17.],\n",
       "       [ 1.,  0.,  0.,  1.,  1.,  4., 15., 72.]])"
      ]
     },
     "execution_count": 113,
     "metadata": {},
     "output_type": "execute_result"
    }
   ],
   "source": [
    "X_mtm = markov.markov_transition_matrix(X_binned)\n",
    "X_mtm"
   ]
  },
  {
   "cell_type": "code",
   "execution_count": 114,
   "metadata": {},
   "outputs": [
    {
     "data": {
      "text/plain": [
       "array([[56.7, 24.7, 13.4,  1. ,  1. ,  0. ,  2.1,  1. ],\n",
       "       [30.2, 36.5, 25. ,  6.2,  1. ,  1. ,  0. ,  0. ],\n",
       "       [ 6.5, 29. , 28. , 18.3, 10.8,  6.5,  1.1,  0. ],\n",
       "       [ 2.2,  7.8, 21.1, 35.6, 23.3,  6.7,  3.3,  0. ],\n",
       "       [ 2.1,  3.2,  6.4, 25.5, 31.9, 21.3,  9.6,  0. ],\n",
       "       [ 1.1,  0. ,  3.2,  4.3, 23.4, 37.2, 26.6,  4.3],\n",
       "       [ 1.1,  0. ,  2.1,  5.3,  8.4, 23.2, 42.1, 17.9],\n",
       "       [ 1.1,  0. ,  0. ,  1.1,  1.1,  4.3, 16. , 76.6]])"
      ]
     },
     "execution_count": 114,
     "metadata": {},
     "output_type": "execute_result"
    }
   ],
   "source": [
    "X_mtm = markov.markov_transition_probabilities(X_mtm)\n",
    "np.round(X_mtm * 100, 1)"
   ]
  },
  {
   "cell_type": "code",
   "execution_count": 112,
   "metadata": {},
   "outputs": [
    {
     "data": {
      "text/plain": [
       "<matplotlib.legend.Legend at 0x7feb6a0f3da0>"
      ]
     },
     "execution_count": 112,
     "metadata": {},
     "output_type": "execute_result"
    },
    {
     "data": {
      "image/png": "[encoded data removed]",
      "text/plain": [
       "<Figure size 2016x576 with 1 Axes>"
      ]
     },
     "metadata": {
      "needs_background": "light"
     },
     "output_type": "display_data"
    }
   ],
   "source": [
    "plot.plot_timeseries_quantiles(df_aqp_all, bin_edges, label='cases')\n",
    "plt.legend()"
   ]
  },
  {
   "attachments": {},
   "cell_type": "markdown",
   "metadata": {},
   "source": [
    "## Stationarity"
   ]
  },
  {
   "cell_type": "code",
   "execution_count": 50,
   "metadata": {},
   "outputs": [],
   "source": [
    "from statsmodels.tsa.stattools import adfuller"
   ]
  },
  {
   "cell_type": "code",
   "execution_count": 54,
   "metadata": {},
   "outputs": [],
   "source": [
    "def applyFullerTest(data: pd.Series) -> None:\n",
    "    res = adfuller(data)\n",
    "    print(f'p Value: {res[1]}')"
   ]
  },
  {
   "cell_type": "code",
   "execution_count": 55,
   "metadata": {},
   "outputs": [
    {
     "name": "stdout",
     "output_type": "stream",
     "text": [
      "ADF: -3.830121518749989\n",
      "p Value: 0.002613738443281892\n"
     ]
    }
   ],
   "source": [
    "applyFullerTest(df_aqp_all['cases'])"
   ]
  },
  {
   "attachments": {},
   "cell_type": "markdown",
   "metadata": {},
   "source": [
    "## Cleaning"
   ]
  },
  {
   "cell_type": "code",
   "execution_count": 33,
   "metadata": {},
   "outputs": [
    {
     "data": {
      "text/html": [
       "<div>\n",
       "<style scoped>\n",
       "    .dataframe tbody tr th:only-of-type {\n",
       "        vertical-align: middle;\n",
       "    }\n",
       "\n",
       "    .dataframe tbody tr th {\n",
       "        vertical-align: top;\n",
       "    }\n",
       "\n",
       "    .dataframe thead th {\n",
       "        text-align: right;\n",
       "    }\n",
       "</style>\n",
       "<table border=\"1\" class=\"dataframe\">\n",
       "  <thead>\n",
       "    <tr style=\"text-align: right;\">\n",
       "      <th></th>\n",
       "      <th>cases</th>\n",
       "      <th>deaths</th>\n",
       "      <th>pcr_test_positive</th>\n",
       "    </tr>\n",
       "    <tr>\n",
       "      <th>date</th>\n",
       "      <th></th>\n",
       "      <th></th>\n",
       "      <th></th>\n",
       "    </tr>\n",
       "  </thead>\n",
       "  <tbody>\n",
       "    <tr>\n",
       "      <th>2020-03-13</th>\n",
       "      <td>2</td>\n",
       "      <td>0</td>\n",
       "      <td>0</td>\n",
       "    </tr>\n",
       "    <tr>\n",
       "      <th>2020-03-14</th>\n",
       "      <td>0</td>\n",
       "      <td>0</td>\n",
       "      <td>0</td>\n",
       "    </tr>\n",
       "    <tr>\n",
       "      <th>2020-03-19</th>\n",
       "      <td>1</td>\n",
       "      <td>0</td>\n",
       "      <td>0</td>\n",
       "    </tr>\n",
       "    <tr>\n",
       "      <th>2020-03-22</th>\n",
       "      <td>3</td>\n",
       "      <td>0</td>\n",
       "      <td>0</td>\n",
       "    </tr>\n",
       "    <tr>\n",
       "      <th>2020-03-26</th>\n",
       "      <td>5</td>\n",
       "      <td>0</td>\n",
       "      <td>0</td>\n",
       "    </tr>\n",
       "    <tr>\n",
       "      <th>...</th>\n",
       "      <td>...</td>\n",
       "      <td>...</td>\n",
       "      <td>...</td>\n",
       "    </tr>\n",
       "    <tr>\n",
       "      <th>2022-04-01</th>\n",
       "      <td>47</td>\n",
       "      <td>1</td>\n",
       "      <td>49677</td>\n",
       "    </tr>\n",
       "    <tr>\n",
       "      <th>2022-04-02</th>\n",
       "      <td>30</td>\n",
       "      <td>6</td>\n",
       "      <td>49691</td>\n",
       "    </tr>\n",
       "    <tr>\n",
       "      <th>2022-04-03</th>\n",
       "      <td>10</td>\n",
       "      <td>3</td>\n",
       "      <td>49691</td>\n",
       "    </tr>\n",
       "    <tr>\n",
       "      <th>2022-04-04</th>\n",
       "      <td>11</td>\n",
       "      <td>8</td>\n",
       "      <td>49699</td>\n",
       "    </tr>\n",
       "    <tr>\n",
       "      <th>2022-04-05</th>\n",
       "      <td>16</td>\n",
       "      <td>2</td>\n",
       "      <td>49701</td>\n",
       "    </tr>\n",
       "  </tbody>\n",
       "</table>\n",
       "<p>739 rows × 3 columns</p>\n",
       "</div>"
      ],
      "text/plain": [
       "            cases  deaths  pcr_test_positive\n",
       "date                                        \n",
       "2020-03-13      2       0                  0\n",
       "2020-03-14      0       0                  0\n",
       "2020-03-19      1       0                  0\n",
       "2020-03-22      3       0                  0\n",
       "2020-03-26      5       0                  0\n",
       "...           ...     ...                ...\n",
       "2022-04-01     47       1              49677\n",
       "2022-04-02     30       6              49691\n",
       "2022-04-03     10       3              49691\n",
       "2022-04-04     11       8              49699\n",
       "2022-04-05     16       2              49701\n",
       "\n",
       "[739 rows x 3 columns]"
      ]
     },
     "execution_count": 33,
     "metadata": {},
     "output_type": "execute_result"
    }
   ],
   "source": [
    "df_aqp_all.drop_duplicates()"
   ]
  },
  {
   "cell_type": "code",
   "execution_count": 34,
   "metadata": {},
   "outputs": [
    {
     "data": {
      "text/plain": [
       "cases                754\n",
       "deaths               754\n",
       "pcr_test_positive    754\n",
       "dtype: int64"
      ]
     },
     "execution_count": 34,
     "metadata": {},
     "output_type": "execute_result"
    }
   ],
   "source": [
    "df_aqp_all.isna().count()"
   ]
  },
  {
   "cell_type": "code",
   "execution_count": 35,
   "metadata": {},
   "outputs": [],
   "source": [
    "df_aqp_all.sort_values('date', inplace=True)"
   ]
  },
  {
   "cell_type": "code",
   "execution_count": 36,
   "metadata": {},
   "outputs": [],
   "source": [
    "df_aqp_all.reset_index(drop=True, inplace=True)"
   ]
  },
  {
   "cell_type": "code",
   "execution_count": 37,
   "metadata": {},
   "outputs": [
    {
     "data": {
      "text/plain": [
       "11"
      ]
     },
     "execution_count": 37,
     "metadata": {},
     "output_type": "execute_result"
    }
   ],
   "source": [
    "gc.collect()"
   ]
  },
  {
   "attachments": {},
   "cell_type": "markdown",
   "metadata": {},
   "source": [
    "## Overlapping Windows"
   ]
  },
  {
   "cell_type": "code",
   "execution_count": 38,
   "metadata": {},
   "outputs": [],
   "source": [
    "WINDOW_SIZE=100\n",
    "STRIDE=3"
   ]
  },
  {
   "cell_type": "code",
   "execution_count": 39,
   "metadata": {},
   "outputs": [],
   "source": [
    "def generateOverlappingWindow(df: pd.DataFrame, numWindows: int, stride: int, windowSize: int) -> list:\n",
    "    windows = []\n",
    "    for i in range(0, numWindows * stride, stride):\n",
    "        window = df[i : i+ windowSize]  \n",
    "        windows.append(window)\n",
    "    \n",
    "    return windows"
   ]
  },
  {
   "cell_type": "code",
   "execution_count": 40,
   "metadata": {},
   "outputs": [
    {
     "data": {
      "text/plain": [
       "219"
      ]
     },
     "execution_count": 40,
     "metadata": {},
     "output_type": "execute_result"
    }
   ],
   "source": [
    "n = ((len(df_aqp_all) - WINDOW_SIZE) // STRIDE) + 1\n",
    "dfs = generateOverlappingWindow(df_aqp_all, n, STRIDE, WINDOW_SIZE)\n",
    "\n",
    "len(dfs)"
   ]
  },
  {
   "attachments": {},
   "cell_type": "markdown",
   "metadata": {},
   "source": [
    "## Generating IMG from dfs"
   ]
  },
  {
   "cell_type": "code",
   "execution_count": 22,
   "metadata": {},
   "outputs": [],
   "source": [
    "from pyts.image import MarkovTransitionField\n",
    "from tsia import plot, markov"
   ]
  },
  {
   "cell_type": "code",
   "execution_count": 41,
   "metadata": {},
   "outputs": [],
   "source": [
    "N_BINS=8\n",
    "STRATEGY='quantile'\n",
    "IMG_SIZE=48\n",
    "FIG_SIZE=(10, 8)"
   ]
  },
  {
   "cell_type": "code",
   "execution_count": 42,
   "metadata": {},
   "outputs": [],
   "source": [
    "def generateMTFIMG(df: pd.DataFrame) -> any:\n",
    "    X = df.values.reshape(1, -1)\n",
    "    nSamples, nTimeStamps = X.shape\n",
    "\n",
    "    mtf = MarkovTransitionField(image_size=IMG_SIZE, n_bins=N_BINS, strategy=STRATEGY)\n",
    "    tagMtf = mtf.fit_transform(X)\n",
    "\n",
    "    return tagMtf"
   ]
  },
  {
   "cell_type": "code",
   "execution_count": 43,
   "metadata": {},
   "outputs": [],
   "source": [
    "def plotIMG(tagMTF, i: int) -> None:\n",
    "    fig = plt.figure(figsize=FIG_SIZE)\n",
    "    ax = fig.add_subplot(111)\n",
    "    _, mappable_img = plot.plot_markov_transition_field(mtf=tagMTF[0], ax=ax, reversed_cmap=True)\n",
    "    #plt.colorbar(mappable_img)\n",
    "    plt.savefig(f'img/img_{i}_.png')"
   ]
  },
  {
   "cell_type": "code",
   "execution_count": 44,
   "metadata": {},
   "outputs": [
    {
     "data": {
      "text/html": [
       "<div>\n",
       "<style scoped>\n",
       "    .dataframe tbody tr th:only-of-type {\n",
       "        vertical-align: middle;\n",
       "    }\n",
       "\n",
       "    .dataframe tbody tr th {\n",
       "        vertical-align: top;\n",
       "    }\n",
       "\n",
       "    .dataframe thead th {\n",
       "        text-align: right;\n",
       "    }\n",
       "</style>\n",
       "<table border=\"1\" class=\"dataframe\">\n",
       "  <thead>\n",
       "    <tr style=\"text-align: right;\">\n",
       "      <th></th>\n",
       "      <th>cases</th>\n",
       "      <th>deaths</th>\n",
       "      <th>pcr_test_positive</th>\n",
       "    </tr>\n",
       "  </thead>\n",
       "  <tbody>\n",
       "    <tr>\n",
       "      <th>0</th>\n",
       "      <td>2</td>\n",
       "      <td>0</td>\n",
       "      <td>0</td>\n",
       "    </tr>\n",
       "    <tr>\n",
       "      <th>1</th>\n",
       "      <td>0</td>\n",
       "      <td>0</td>\n",
       "      <td>0</td>\n",
       "    </tr>\n",
       "    <tr>\n",
       "      <th>2</th>\n",
       "      <td>0</td>\n",
       "      <td>0</td>\n",
       "      <td>0</td>\n",
       "    </tr>\n",
       "  </tbody>\n",
       "</table>\n",
       "</div>"
      ],
      "text/plain": [
       "   cases  deaths  pcr_test_positive\n",
       "0      2       0                  0\n",
       "1      0       0                  0\n",
       "2      0       0                  0"
      ]
     },
     "execution_count": 44,
     "metadata": {},
     "output_type": "execute_result"
    }
   ],
   "source": [
    "dfs[0].head(3)"
   ]
  },
  {
   "cell_type": "code",
   "execution_count": 45,
   "metadata": {},
   "outputs": [
    {
     "data": {
      "text/plain": [
       "(100, 3)"
      ]
     },
     "execution_count": 45,
     "metadata": {},
     "output_type": "execute_result"
    }
   ],
   "source": [
    "dfs[0].shape"
   ]
  },
  {
   "attachments": {},
   "cell_type": "markdown",
   "metadata": {},
   "source": [
    "### Generating all IMG"
   ]
  },
  {
   "cell_type": "code",
   "execution_count": null,
   "metadata": {},
   "outputs": [],
   "source": [
    "for i in range(len(dfs)):\n",
    "    plotIMG(generateMTFIMG(dfs[i]), i)"
   ]
  },
  {
   "cell_type": "code",
   "execution_count": 46,
   "metadata": {},
   "outputs": [
    {
     "name": "stderr",
     "output_type": "stream",
     "text": [
      "/home/lmoroco/Documentos/5to/PFC/OK/ML-Research-UNSA-UOKlahoma/venv/lib/python3.6/site-packages/pyts/preprocessing/discretizer.py:171: UserWarning: Some quantiles are equal. The number of bins will be smaller for sample [0]. Consider decreasing the number of bins or removing these samples.\n",
      "  .format(samples))\n"
     ]
    }
   ],
   "source": [
    "tg = generateMTFIMG(dfs[0])"
   ]
  },
  {
   "cell_type": "code",
   "execution_count": 1,
   "metadata": {},
   "outputs": [],
   "source": [
    "import pandas as pd "
   ]
  },
  {
   "cell_type": "code",
   "execution_count": 2,
   "metadata": {},
   "outputs": [
    {
     "data": {
      "text/html": [
       "<div>\n",
       "<style scoped>\n",
       "    .dataframe tbody tr th:only-of-type {\n",
       "        vertical-align: middle;\n",
       "    }\n",
       "\n",
       "    .dataframe tbody tr th {\n",
       "        vertical-align: top;\n",
       "    }\n",
       "\n",
       "    .dataframe thead th {\n",
       "        text-align: right;\n",
       "    }\n",
       "</style>\n",
       "<table border=\"1\" class=\"dataframe\">\n",
       "  <thead>\n",
       "    <tr style=\"text-align: right;\">\n",
       "      <th></th>\n",
       "      <th>country</th>\n",
       "      <th>iso3c</th>\n",
       "      <th>region</th>\n",
       "      <th>date</th>\n",
       "      <th>confirmed</th>\n",
       "      <th>deaths</th>\n",
       "      <th>recovered</th>\n",
       "      <th>total_pcr</th>\n",
       "      <th>total_serological</th>\n",
       "      <th>total_ag</th>\n",
       "      <th>total_tests</th>\n",
       "      <th>negative_tests</th>\n",
       "      <th>pcr_test_positive</th>\n",
       "      <th>serological_test_positive</th>\n",
       "      <th>ag_test_positive</th>\n",
       "      <th>pcr_serological_test_positive</th>\n",
       "    </tr>\n",
       "  </thead>\n",
       "  <tbody>\n",
       "    <tr>\n",
       "      <th>0</th>\n",
       "      <td>Peru</td>\n",
       "      <td>PER</td>\n",
       "      <td>NaN</td>\n",
       "      <td>2020-03-06</td>\n",
       "      <td>1.0</td>\n",
       "      <td>NaN</td>\n",
       "      <td>NaN</td>\n",
       "      <td>NaN</td>\n",
       "      <td>NaN</td>\n",
       "      <td>NaN</td>\n",
       "      <td>NaN</td>\n",
       "      <td>154.0</td>\n",
       "      <td>NaN</td>\n",
       "      <td>NaN</td>\n",
       "      <td>NaN</td>\n",
       "      <td>NaN</td>\n",
       "    </tr>\n",
       "    <tr>\n",
       "      <th>1</th>\n",
       "      <td>Peru</td>\n",
       "      <td>PER</td>\n",
       "      <td>NaN</td>\n",
       "      <td>2020-03-07</td>\n",
       "      <td>6.0</td>\n",
       "      <td>NaN</td>\n",
       "      <td>NaN</td>\n",
       "      <td>NaN</td>\n",
       "      <td>NaN</td>\n",
       "      <td>NaN</td>\n",
       "      <td>NaN</td>\n",
       "      <td>213.0</td>\n",
       "      <td>NaN</td>\n",
       "      <td>NaN</td>\n",
       "      <td>NaN</td>\n",
       "      <td>NaN</td>\n",
       "    </tr>\n",
       "    <tr>\n",
       "      <th>2</th>\n",
       "      <td>Peru</td>\n",
       "      <td>PER</td>\n",
       "      <td>NaN</td>\n",
       "      <td>2020-03-09</td>\n",
       "      <td>9.0</td>\n",
       "      <td>NaN</td>\n",
       "      <td>NaN</td>\n",
       "      <td>NaN</td>\n",
       "      <td>NaN</td>\n",
       "      <td>NaN</td>\n",
       "      <td>NaN</td>\n",
       "      <td>309.0</td>\n",
       "      <td>NaN</td>\n",
       "      <td>NaN</td>\n",
       "      <td>NaN</td>\n",
       "      <td>NaN</td>\n",
       "    </tr>\n",
       "  </tbody>\n",
       "</table>\n",
       "</div>"
      ],
      "text/plain": [
       "  country iso3c region        date  confirmed  deaths  recovered  total_pcr  \\\n",
       "0    Peru   PER    NaN  2020-03-06        1.0     NaN        NaN        NaN   \n",
       "1    Peru   PER    NaN  2020-03-07        6.0     NaN        NaN        NaN   \n",
       "2    Peru   PER    NaN  2020-03-09        9.0     NaN        NaN        NaN   \n",
       "\n",
       "   total_serological  total_ag  total_tests  negative_tests  \\\n",
       "0                NaN       NaN          NaN           154.0   \n",
       "1                NaN       NaN          NaN           213.0   \n",
       "2                NaN       NaN          NaN           309.0   \n",
       "\n",
       "   pcr_test_positive  serological_test_positive  ag_test_positive  \\\n",
       "0                NaN                        NaN               NaN   \n",
       "1                NaN                        NaN               NaN   \n",
       "2                NaN                        NaN               NaN   \n",
       "\n",
       "   pcr_serological_test_positive  \n",
       "0                            NaN  \n",
       "1                            NaN  \n",
       "2                            NaN  "
      ]
     },
     "execution_count": 2,
     "metadata": {},
     "output_type": "execute_result"
    }
   ],
   "source": [
    "df = pd.read_csv('../data/covid-19-peru-data.csv')\n",
    "df.head(3)"
   ]
  },
  {
   "cell_type": "code",
   "execution_count": 3,
   "metadata": {},
   "outputs": [
    {
     "data": {
      "text/plain": [
       "(20003, 16)"
      ]
     },
     "execution_count": 3,
     "metadata": {},
     "output_type": "execute_result"
    }
   ],
   "source": [
    "df.shape"
   ]
  },
  {
   "cell_type": "code",
   "execution_count": null,
   "metadata": {},
   "outputs": [],
   "source": []
  }
 ],
 "metadata": {
  "kernelspec": {
   "display_name": "venv",
   "language": "python",
   "name": "python3"
  },
  "language_info": {
   "codemirror_mode": {
    "name": "ipython",
    "version": 3
   },
   "file_extension": ".py",
   "mimetype": "text/x-python",
   "name": "python",
   "nbconvert_exporter": "python",
   "pygments_lexer": "ipython3",
   "version": "3.6.9"
  },
  "orig_nbformat": 4
 },
 "nbformat": 4,
 "nbformat_minor": 2
}
